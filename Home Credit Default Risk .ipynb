{
 "cells": [
  {
   "cell_type": "markdown",
   "metadata": {},
   "source": [
    "# Home Credit Default Risk "
   ]
  },
  {
   "cell_type": "markdown",
   "metadata": {},
   "source": [
    "In this notebook, I'm going to predict the probability of loan default risk base on partial data from the [Home Credit default risk machine learning competition](https://www.kaggle.com/c/home-credit-default-risk/) in Kaggle. The goal of this competition is to use historical loan application data to predict whether or not an applicant will be able to repay a loan. This is a supervised learning task and classification problem.\n",
    "\n",
    "\n",
    "## Data\n",
    "\n",
    "In this notebook, I'm using only the application_train.csv which is 1 file out of 7.\n",
    "This file is the main table, static data for all applications which one row represents one loan in the data sample.\n",
    "\n",
    "The description of the columns is in the columns_description.csv , this is a reduced version that describes the application set only.\n",
    "\n",
    "The data contains 307,511 rows (each row represents a loan) and 122 columns represent information about the client and the loan.\n",
    "\n",
    "Link to the full data source: https://www.kaggle.com/c/home-credit-default-risk/data\n",
    "\n",
    "\n",
    "## Metric\n",
    "\n",
    "In this case, we are dealing with imbalanced data (most of the clients repay their loan) so accuracy matric is not relevant.\n",
    "So, the metric that we are going to check is the [Receiver Operating Characteristic Area Under the Curve](https://en.wikipedia.org/wiki/Receiver_operating_characteristic) (ROC AUC).\n",
    "\n",
    "**Reminder**: ROC curve is the true positive rate versus the false positive rate.\n",
    "The Area Under the Curve (AUC) is the integral of the curve (ROC). This metric provides scores between 0 and 1, higher-score means a better model. A random guessing model will have a ROC AUC score of 0.5.\n",
    "\n",
    "\n",
    "## Results\n",
    "\n",
    "The XGBoost provides the best performance from all the algorithms I used (including ANN).\n",
    "The test ROC AUC score is: **0.7689**.\n",
    "\n",
    "In order to make a comparison, we can look at the best score from this competition which is 0.81 (by using all data files).\n",
    "\n",
    "\n",
    "## Notebook Content\n",
    "\n",
    "- Import Data and Libraries\n",
    "- Exploratory Data Analysis (EDA)\n",
    "- Data cleaning\n",
    "- Dealing with Na's\n",
    "- Feature Engineering\n",
    "- Data Preparation for Modeling\n",
    "- Models\n",
    "- Machine Learning Algorithms\n",
    "- Hyperparameter Tuning\n",
    "- Deep Neural Network\n",
    "- Best Results\n",
    "- Feature Importances\n"
   ]
  },
  {
   "cell_type": "markdown",
   "metadata": {},
   "source": [
    "# Import Data and Libraries "
   ]
  },
  {
   "cell_type": "code",
   "execution_count": 2,
   "metadata": {},
   "outputs": [
    {
     "name": "stderr",
     "output_type": "stream",
     "text": [
      "C:\\Users\\tomer\\Anaconda3\\lib\\site-packages\\statsmodels\\tools\\_testing.py:19: FutureWarning: pandas.util.testing is deprecated. Use the functions in the public API at pandas.testing instead.\n",
      "  import pandas.util.testing as tm\n",
      "Using TensorFlow backend.\n"
     ]
    }
   ],
   "source": [
    "import numpy as np \n",
    "import pandas as pd \n",
    "import matplotlib.pyplot as plt\n",
    "import seaborn as sns\n",
    "\n",
    "from sklearn.model_selection import train_test_split, cross_val_score, GridSearchCV , StratifiedKFold, ShuffleSplit\n",
    "from sklearn.preprocessing import OneHotEncoder, MinMaxScaler ,LabelEncoder\n",
    "\n",
    "from sklearn.neighbors import KNeighborsClassifier \n",
    "from sklearn.linear_model import LogisticRegression\n",
    "from sklearn.tree import DecisionTreeClassifier\n",
    "from sklearn.svm import SVC\n",
    "from sklearn.ensemble import RandomForestClassifier, AdaBoostClassifier\n",
    "from xgboost import XGBClassifier\n",
    "\n",
    "from sklearn.model_selection import GridSearchCV ,RandomizedSearchCV, StratifiedKFold\n",
    "from sklearn.model_selection import cross_val_score\n",
    "from sklearn.metrics import confusion_matrix, classification_report, roc_auc_score, roc_curve\n",
    "import warnings\n",
    "warnings.filterwarnings(action=\"ignore\")\n",
    "\n",
    "\n",
    "import keras\n",
    "from keras.layers import Add\n",
    "from keras.callbacks import ReduceLROnPlateau, ModelCheckpoint,EarlyStopping\n",
    "from keras.optimizers import Adam\n",
    "from keras.wrappers.scikit_learn import KerasClassifier\n",
    "\n",
    "\n",
    "%matplotlib inline"
   ]
  },
  {
   "cell_type": "code",
   "execution_count": 3,
   "metadata": {
    "scrolled": false
   },
   "outputs": [
    {
     "name": "stdout",
     "output_type": "stream",
     "text": [
      "(307511, 122) \n",
      "\n"
     ]
    }
   ],
   "source": [
    "application = pd.read_csv(r'C:\\Users\\tomer\\Downloads\\application_train.csv')\n",
    "print(application.shape,'\\n')\n",
    "\n",
    "application.columns = application.columns.str.lower()\n",
    "application.drop(columns=['sk_id_curr'], inplace=True)"
   ]
  },
  {
   "cell_type": "markdown",
   "metadata": {},
   "source": [
    "### Split The Data "
   ]
  },
  {
   "cell_type": "markdown",
   "metadata": {},
   "source": [
    "First let's split the data to train (data) and test (holdout)."
   ]
  },
  {
   "cell_type": "code",
   "execution_count": 4,
   "metadata": {},
   "outputs": [
    {
     "data": {
      "text/html": [
       "<div>\n",
       "<style scoped>\n",
       "    .dataframe tbody tr th:only-of-type {\n",
       "        vertical-align: middle;\n",
       "    }\n",
       "\n",
       "    .dataframe tbody tr th {\n",
       "        vertical-align: top;\n",
       "    }\n",
       "\n",
       "    .dataframe thead th {\n",
       "        text-align: right;\n",
       "    }\n",
       "</style>\n",
       "<table border=\"1\" class=\"dataframe\">\n",
       "  <thead>\n",
       "    <tr style=\"text-align: right;\">\n",
       "      <th></th>\n",
       "      <th>target</th>\n",
       "      <th>name_contract_type</th>\n",
       "      <th>code_gender</th>\n",
       "      <th>flag_own_car</th>\n",
       "      <th>flag_own_realty</th>\n",
       "      <th>cnt_children</th>\n",
       "      <th>amt_income_total</th>\n",
       "      <th>amt_credit</th>\n",
       "      <th>amt_annuity</th>\n",
       "      <th>amt_goods_price</th>\n",
       "      <th>...</th>\n",
       "      <th>flag_document_18</th>\n",
       "      <th>flag_document_19</th>\n",
       "      <th>flag_document_20</th>\n",
       "      <th>flag_document_21</th>\n",
       "      <th>amt_req_credit_bureau_hour</th>\n",
       "      <th>amt_req_credit_bureau_day</th>\n",
       "      <th>amt_req_credit_bureau_week</th>\n",
       "      <th>amt_req_credit_bureau_mon</th>\n",
       "      <th>amt_req_credit_bureau_qrt</th>\n",
       "      <th>amt_req_credit_bureau_year</th>\n",
       "    </tr>\n",
       "  </thead>\n",
       "  <tbody>\n",
       "    <tr>\n",
       "      <th>305637</th>\n",
       "      <td>0</td>\n",
       "      <td>Cash loans</td>\n",
       "      <td>M</td>\n",
       "      <td>Y</td>\n",
       "      <td>Y</td>\n",
       "      <td>0</td>\n",
       "      <td>135000.0</td>\n",
       "      <td>1061599.5</td>\n",
       "      <td>31171.5</td>\n",
       "      <td>927000.0</td>\n",
       "      <td>...</td>\n",
       "      <td>0</td>\n",
       "      <td>0</td>\n",
       "      <td>0</td>\n",
       "      <td>0</td>\n",
       "      <td>0.0</td>\n",
       "      <td>0.0</td>\n",
       "      <td>0.0</td>\n",
       "      <td>0.0</td>\n",
       "      <td>3.0</td>\n",
       "      <td>5.0</td>\n",
       "    </tr>\n",
       "    <tr>\n",
       "      <th>152596</th>\n",
       "      <td>0</td>\n",
       "      <td>Cash loans</td>\n",
       "      <td>M</td>\n",
       "      <td>N</td>\n",
       "      <td>Y</td>\n",
       "      <td>0</td>\n",
       "      <td>216000.0</td>\n",
       "      <td>760131.0</td>\n",
       "      <td>28057.5</td>\n",
       "      <td>634500.0</td>\n",
       "      <td>...</td>\n",
       "      <td>0</td>\n",
       "      <td>0</td>\n",
       "      <td>0</td>\n",
       "      <td>0</td>\n",
       "      <td>0.0</td>\n",
       "      <td>0.0</td>\n",
       "      <td>0.0</td>\n",
       "      <td>0.0</td>\n",
       "      <td>0.0</td>\n",
       "      <td>1.0</td>\n",
       "    </tr>\n",
       "    <tr>\n",
       "      <th>64100</th>\n",
       "      <td>0</td>\n",
       "      <td>Cash loans</td>\n",
       "      <td>F</td>\n",
       "      <td>N</td>\n",
       "      <td>Y</td>\n",
       "      <td>0</td>\n",
       "      <td>247500.0</td>\n",
       "      <td>675000.0</td>\n",
       "      <td>21906.0</td>\n",
       "      <td>675000.0</td>\n",
       "      <td>...</td>\n",
       "      <td>0</td>\n",
       "      <td>0</td>\n",
       "      <td>0</td>\n",
       "      <td>0</td>\n",
       "      <td>0.0</td>\n",
       "      <td>0.0</td>\n",
       "      <td>0.0</td>\n",
       "      <td>1.0</td>\n",
       "      <td>0.0</td>\n",
       "      <td>4.0</td>\n",
       "    </tr>\n",
       "    <tr>\n",
       "      <th>24351</th>\n",
       "      <td>0</td>\n",
       "      <td>Cash loans</td>\n",
       "      <td>M</td>\n",
       "      <td>N</td>\n",
       "      <td>Y</td>\n",
       "      <td>0</td>\n",
       "      <td>189000.0</td>\n",
       "      <td>355536.0</td>\n",
       "      <td>18283.5</td>\n",
       "      <td>270000.0</td>\n",
       "      <td>...</td>\n",
       "      <td>0</td>\n",
       "      <td>0</td>\n",
       "      <td>0</td>\n",
       "      <td>0</td>\n",
       "      <td>0.0</td>\n",
       "      <td>0.0</td>\n",
       "      <td>0.0</td>\n",
       "      <td>0.0</td>\n",
       "      <td>0.0</td>\n",
       "      <td>1.0</td>\n",
       "    </tr>\n",
       "    <tr>\n",
       "      <th>118194</th>\n",
       "      <td>0</td>\n",
       "      <td>Cash loans</td>\n",
       "      <td>F</td>\n",
       "      <td>N</td>\n",
       "      <td>Y</td>\n",
       "      <td>0</td>\n",
       "      <td>85500.0</td>\n",
       "      <td>99000.0</td>\n",
       "      <td>9774.0</td>\n",
       "      <td>99000.0</td>\n",
       "      <td>...</td>\n",
       "      <td>0</td>\n",
       "      <td>0</td>\n",
       "      <td>0</td>\n",
       "      <td>0</td>\n",
       "      <td>0.0</td>\n",
       "      <td>0.0</td>\n",
       "      <td>0.0</td>\n",
       "      <td>0.0</td>\n",
       "      <td>0.0</td>\n",
       "      <td>1.0</td>\n",
       "    </tr>\n",
       "  </tbody>\n",
       "</table>\n",
       "<p>5 rows × 121 columns</p>\n",
       "</div>"
      ],
      "text/plain": [
       "        target name_contract_type code_gender flag_own_car flag_own_realty  \\\n",
       "305637       0         Cash loans           M            Y               Y   \n",
       "152596       0         Cash loans           M            N               Y   \n",
       "64100        0         Cash loans           F            N               Y   \n",
       "24351        0         Cash loans           M            N               Y   \n",
       "118194       0         Cash loans           F            N               Y   \n",
       "\n",
       "        cnt_children  amt_income_total  amt_credit  amt_annuity  \\\n",
       "305637             0          135000.0   1061599.5      31171.5   \n",
       "152596             0          216000.0    760131.0      28057.5   \n",
       "64100              0          247500.0    675000.0      21906.0   \n",
       "24351              0          189000.0    355536.0      18283.5   \n",
       "118194             0           85500.0     99000.0       9774.0   \n",
       "\n",
       "        amt_goods_price  ... flag_document_18 flag_document_19  \\\n",
       "305637         927000.0  ...                0                0   \n",
       "152596         634500.0  ...                0                0   \n",
       "64100          675000.0  ...                0                0   \n",
       "24351          270000.0  ...                0                0   \n",
       "118194          99000.0  ...                0                0   \n",
       "\n",
       "       flag_document_20 flag_document_21 amt_req_credit_bureau_hour  \\\n",
       "305637                0                0                        0.0   \n",
       "152596                0                0                        0.0   \n",
       "64100                 0                0                        0.0   \n",
       "24351                 0                0                        0.0   \n",
       "118194                0                0                        0.0   \n",
       "\n",
       "        amt_req_credit_bureau_day  amt_req_credit_bureau_week  \\\n",
       "305637                        0.0                         0.0   \n",
       "152596                        0.0                         0.0   \n",
       "64100                         0.0                         0.0   \n",
       "24351                         0.0                         0.0   \n",
       "118194                        0.0                         0.0   \n",
       "\n",
       "        amt_req_credit_bureau_mon  amt_req_credit_bureau_qrt  \\\n",
       "305637                        0.0                        3.0   \n",
       "152596                        0.0                        0.0   \n",
       "64100                         1.0                        0.0   \n",
       "24351                         0.0                        0.0   \n",
       "118194                        0.0                        0.0   \n",
       "\n",
       "        amt_req_credit_bureau_year  \n",
       "305637                         5.0  \n",
       "152596                         1.0  \n",
       "64100                          4.0  \n",
       "24351                          1.0  \n",
       "118194                         1.0  \n",
       "\n",
       "[5 rows x 121 columns]"
      ]
     },
     "execution_count": 4,
     "metadata": {},
     "output_type": "execute_result"
    }
   ],
   "source": [
    "data, holdout = train_test_split(application, test_size = 0.2 ,stratify = application['target'] # split proportional to the target classes balance\n",
    "                                , random_state=123)\n",
    "\n",
    "data.head()"
   ]
  },
  {
   "cell_type": "markdown",
   "metadata": {},
   "source": [
    "# Exploratory Data Analysis"
   ]
  },
  {
   "cell_type": "markdown",
   "metadata": {},
   "source": [
    "Here I examine the ratio between the target's classes (Default or not).\n",
    "We can see that we are dealing with **imbalanced data** (moderate, not extreme imbalance), only 8%~ of the client are default."
   ]
  },
  {
   "cell_type": "code",
   "execution_count": 5,
   "metadata": {},
   "outputs": [
    {
     "data": {
      "image/png": "[encoded data removed]",
      "text/plain": [
       "<Figure size 432x288 with 1 Axes>"
      ]
     },
     "metadata": {},
     "output_type": "display_data"
    },
    {
     "name": "stdout",
     "output_type": "stream",
     "text": [
      "0    0.919271\n",
      "1    0.080729\n",
      "Name: target, dtype: float64\n"
     ]
    }
   ],
   "source": [
    "tar = data['target'].value_counts(normalize=1)\n",
    "\n",
    "# Data to plot\n",
    "labels = ['Paid', 'Default']\n",
    "sizes = tar.values\n",
    "colors = ['blue', 'red']\n",
    "explode = (0.1, 0)  # explode 1st slice\n",
    "\n",
    "# Plot\n",
    "plt.pie(sizes, explode=explode, labels=labels, colors=colors,\n",
    "autopct='%1.1f%%', shadow=True, startangle=140)\n",
    "\n",
    "plt.axis('equal')\n",
    "plt.show()\n",
    "\n",
    "print(tar)\n"
   ]
  },
  {
   "cell_type": "markdown",
   "metadata": {},
   "source": [
    "#### Checking for NA's, variance and correlation with target variable "
   ]
  },
  {
   "cell_type": "code",
   "execution_count": 6,
   "metadata": {},
   "outputs": [],
   "source": [
    "# NA's table\n",
    "na_table = pd.DataFrame({\"Variable\": data.isnull().sum().index,\n",
    "                         \"Na's Amount\": data.isnull().sum().values,\n",
    "                         \"Na's Percent\": data.isnull().sum().values*100/data.shape[0]})\n",
    "na_table.set_index([\"Variable\"],inplace=True)\n",
    "\n",
    "# correlation and variance table\n",
    "corr_table = pd.DataFrame({\"corr\" :data.corr()['target'].abs(),\n",
    "                           \"variance\":data.var()})\n",
    "\n",
    "# joining the tables\n",
    "na_table = na_table.join(corr_table)"
   ]
  },
  {
   "cell_type": "code",
   "execution_count": 7,
   "metadata": {
    "scrolled": false
   },
   "outputs": [
    {
     "data": {
      "text/html": [
       "<div>\n",
       "<style scoped>\n",
       "    .dataframe tbody tr th:only-of-type {\n",
       "        vertical-align: middle;\n",
       "    }\n",
       "\n",
       "    .dataframe tbody tr th {\n",
       "        vertical-align: top;\n",
       "    }\n",
       "\n",
       "    .dataframe thead th {\n",
       "        text-align: right;\n",
       "    }\n",
       "</style>\n",
       "<table border=\"1\" class=\"dataframe\">\n",
       "  <thead>\n",
       "    <tr style=\"text-align: right;\">\n",
       "      <th></th>\n",
       "      <th>Na's Amount</th>\n",
       "      <th>Na's Percent</th>\n",
       "      <th>corr</th>\n",
       "      <th>variance</th>\n",
       "    </tr>\n",
       "    <tr>\n",
       "      <th>Variable</th>\n",
       "      <th></th>\n",
       "      <th></th>\n",
       "      <th></th>\n",
       "      <th></th>\n",
       "    </tr>\n",
       "  </thead>\n",
       "  <tbody>\n",
       "    <tr>\n",
       "      <th>target</th>\n",
       "      <td>0</td>\n",
       "      <td>0.000000</td>\n",
       "      <td>1.000000</td>\n",
       "      <td>7.421220e-02</td>\n",
       "    </tr>\n",
       "    <tr>\n",
       "      <th>ext_source_3</th>\n",
       "      <td>48974</td>\n",
       "      <td>19.907483</td>\n",
       "      <td>0.179441</td>\n",
       "      <td>3.801386e-02</td>\n",
       "    </tr>\n",
       "    <tr>\n",
       "      <th>ext_source_2</th>\n",
       "      <td>516</td>\n",
       "      <td>0.209749</td>\n",
       "      <td>0.161596</td>\n",
       "      <td>3.646571e-02</td>\n",
       "    </tr>\n",
       "    <tr>\n",
       "      <th>ext_source_1</th>\n",
       "      <td>138528</td>\n",
       "      <td>56.310364</td>\n",
       "      <td>0.154947</td>\n",
       "      <td>4.457925e-02</td>\n",
       "    </tr>\n",
       "    <tr>\n",
       "      <th>days_birth</th>\n",
       "      <td>0</td>\n",
       "      <td>0.000000</td>\n",
       "      <td>0.077700</td>\n",
       "      <td>1.906550e+07</td>\n",
       "    </tr>\n",
       "    <tr>\n",
       "      <th>region_rating_client_w_city</th>\n",
       "      <td>0</td>\n",
       "      <td>0.000000</td>\n",
       "      <td>0.060426</td>\n",
       "      <td>2.528882e-01</td>\n",
       "    </tr>\n",
       "    <tr>\n",
       "      <th>region_rating_client</th>\n",
       "      <td>0</td>\n",
       "      <td>0.000000</td>\n",
       "      <td>0.058012</td>\n",
       "      <td>2.589709e-01</td>\n",
       "    </tr>\n",
       "    <tr>\n",
       "      <th>days_last_phone_change</th>\n",
       "      <td>0</td>\n",
       "      <td>0.000000</td>\n",
       "      <td>0.055782</td>\n",
       "      <td>6.832105e+05</td>\n",
       "    </tr>\n",
       "    <tr>\n",
       "      <th>days_id_publish</th>\n",
       "      <td>0</td>\n",
       "      <td>0.000000</td>\n",
       "      <td>0.052459</td>\n",
       "      <td>2.277081e+06</td>\n",
       "    </tr>\n",
       "    <tr>\n",
       "      <th>reg_city_not_work_city</th>\n",
       "      <td>0</td>\n",
       "      <td>0.000000</td>\n",
       "      <td>0.049712</td>\n",
       "      <td>1.773993e-01</td>\n",
       "    </tr>\n",
       "    <tr>\n",
       "      <th>flag_emp_phone</th>\n",
       "      <td>0</td>\n",
       "      <td>0.000000</td>\n",
       "      <td>0.046321</td>\n",
       "      <td>1.472610e-01</td>\n",
       "    </tr>\n",
       "    <tr>\n",
       "      <th>days_employed</th>\n",
       "      <td>0</td>\n",
       "      <td>0.000000</td>\n",
       "      <td>0.045272</td>\n",
       "      <td>1.990333e+10</td>\n",
       "    </tr>\n",
       "    <tr>\n",
       "      <th>reg_city_not_live_city</th>\n",
       "      <td>0</td>\n",
       "      <td>0.000000</td>\n",
       "      <td>0.045241</td>\n",
       "      <td>7.249349e-02</td>\n",
       "    </tr>\n",
       "    <tr>\n",
       "      <th>flag_document_3</th>\n",
       "      <td>0</td>\n",
       "      <td>0.000000</td>\n",
       "      <td>0.044967</td>\n",
       "      <td>2.054227e-01</td>\n",
       "    </tr>\n",
       "    <tr>\n",
       "      <th>floorsmax_avg</th>\n",
       "      <td>122325</td>\n",
       "      <td>49.723993</td>\n",
       "      <td>0.044135</td>\n",
       "      <td>2.089024e-02</td>\n",
       "    </tr>\n",
       "    <tr>\n",
       "      <th>floorsmax_medi</th>\n",
       "      <td>122325</td>\n",
       "      <td>49.723993</td>\n",
       "      <td>0.043917</td>\n",
       "      <td>2.101231e-02</td>\n",
       "    </tr>\n",
       "    <tr>\n",
       "      <th>floorsmax_mode</th>\n",
       "      <td>122325</td>\n",
       "      <td>49.723993</td>\n",
       "      <td>0.043303</td>\n",
       "      <td>2.061694e-02</td>\n",
       "    </tr>\n",
       "    <tr>\n",
       "      <th>days_registration</th>\n",
       "      <td>0</td>\n",
       "      <td>0.000000</td>\n",
       "      <td>0.041706</td>\n",
       "      <td>1.239220e+07</td>\n",
       "    </tr>\n",
       "    <tr>\n",
       "      <th>amt_goods_price</th>\n",
       "      <td>211</td>\n",
       "      <td>0.085770</td>\n",
       "      <td>0.040050</td>\n",
       "      <td>1.365745e+11</td>\n",
       "    </tr>\n",
       "    <tr>\n",
       "      <th>own_car_age</th>\n",
       "      <td>162329</td>\n",
       "      <td>65.985253</td>\n",
       "      <td>0.038309</td>\n",
       "      <td>1.420780e+02</td>\n",
       "    </tr>\n",
       "  </tbody>\n",
       "</table>\n",
       "</div>"
      ],
      "text/plain": [
       "                             Na's Amount  Na's Percent      corr      variance\n",
       "Variable                                                                      \n",
       "target                                 0      0.000000  1.000000  7.421220e-02\n",
       "ext_source_3                       48974     19.907483  0.179441  3.801386e-02\n",
       "ext_source_2                         516      0.209749  0.161596  3.646571e-02\n",
       "ext_source_1                      138528     56.310364  0.154947  4.457925e-02\n",
       "days_birth                             0      0.000000  0.077700  1.906550e+07\n",
       "region_rating_client_w_city            0      0.000000  0.060426  2.528882e-01\n",
       "region_rating_client                   0      0.000000  0.058012  2.589709e-01\n",
       "days_last_phone_change                 0      0.000000  0.055782  6.832105e+05\n",
       "days_id_publish                        0      0.000000  0.052459  2.277081e+06\n",
       "reg_city_not_work_city                 0      0.000000  0.049712  1.773993e-01\n",
       "flag_emp_phone                         0      0.000000  0.046321  1.472610e-01\n",
       "days_employed                          0      0.000000  0.045272  1.990333e+10\n",
       "reg_city_not_live_city                 0      0.000000  0.045241  7.249349e-02\n",
       "flag_document_3                        0      0.000000  0.044967  2.054227e-01\n",
       "floorsmax_avg                     122325     49.723993  0.044135  2.089024e-02\n",
       "floorsmax_medi                    122325     49.723993  0.043917  2.101231e-02\n",
       "floorsmax_mode                    122325     49.723993  0.043303  2.061694e-02\n",
       "days_registration                      0      0.000000  0.041706  1.239220e+07\n",
       "amt_goods_price                      211      0.085770  0.040050  1.365745e+11\n",
       "own_car_age                       162329     65.985253  0.038309  1.420780e+02"
      ]
     },
     "execution_count": 7,
     "metadata": {},
     "output_type": "execute_result"
    }
   ],
   "source": [
    "# print top correlation var\n",
    "na_table.sort_values(by=\"corr\",ascending=False)[:20]"
   ]
  },
  {
   "cell_type": "markdown",
   "metadata": {},
   "source": [
    "We can notice the variables that have information about the building where the client lives suffer from multicollinearity (each variable has a mode, median, average).\n",
    "\n",
    "for example:"
   ]
  },
  {
   "cell_type": "code",
   "execution_count": 8,
   "metadata": {
    "scrolled": true
   },
   "outputs": [
    {
     "data": {
      "text/html": [
       "<div>\n",
       "<style scoped>\n",
       "    .dataframe tbody tr th:only-of-type {\n",
       "        vertical-align: middle;\n",
       "    }\n",
       "\n",
       "    .dataframe tbody tr th {\n",
       "        vertical-align: top;\n",
       "    }\n",
       "\n",
       "    .dataframe thead th {\n",
       "        text-align: right;\n",
       "    }\n",
       "</style>\n",
       "<table border=\"1\" class=\"dataframe\">\n",
       "  <thead>\n",
       "    <tr style=\"text-align: right;\">\n",
       "      <th></th>\n",
       "      <th>floorsmin_avg</th>\n",
       "      <th>floorsmin_mode</th>\n",
       "      <th>floorsmin_medi</th>\n",
       "      <th>floorsmax_avg</th>\n",
       "      <th>floorsmax_mode</th>\n",
       "      <th>floorsmax_medi</th>\n",
       "    </tr>\n",
       "  </thead>\n",
       "  <tbody>\n",
       "    <tr>\n",
       "      <th>floorsmin_avg</th>\n",
       "      <td>1.000000</td>\n",
       "      <td>0.986046</td>\n",
       "      <td>0.997352</td>\n",
       "      <td>0.742447</td>\n",
       "      <td>0.729350</td>\n",
       "      <td>0.740023</td>\n",
       "    </tr>\n",
       "    <tr>\n",
       "      <th>floorsmin_mode</th>\n",
       "      <td>0.986046</td>\n",
       "      <td>1.000000</td>\n",
       "      <td>0.988433</td>\n",
       "      <td>0.722966</td>\n",
       "      <td>0.727067</td>\n",
       "      <td>0.723708</td>\n",
       "    </tr>\n",
       "    <tr>\n",
       "      <th>floorsmin_medi</th>\n",
       "      <td>0.997352</td>\n",
       "      <td>0.988433</td>\n",
       "      <td>1.000000</td>\n",
       "      <td>0.740053</td>\n",
       "      <td>0.730022</td>\n",
       "      <td>0.740578</td>\n",
       "    </tr>\n",
       "    <tr>\n",
       "      <th>floorsmax_avg</th>\n",
       "      <td>0.742447</td>\n",
       "      <td>0.722966</td>\n",
       "      <td>0.740053</td>\n",
       "      <td>1.000000</td>\n",
       "      <td>0.985710</td>\n",
       "      <td>0.997141</td>\n",
       "    </tr>\n",
       "    <tr>\n",
       "      <th>floorsmax_mode</th>\n",
       "      <td>0.729350</td>\n",
       "      <td>0.727067</td>\n",
       "      <td>0.730022</td>\n",
       "      <td>0.985710</td>\n",
       "      <td>1.000000</td>\n",
       "      <td>0.988204</td>\n",
       "    </tr>\n",
       "    <tr>\n",
       "      <th>floorsmax_medi</th>\n",
       "      <td>0.740023</td>\n",
       "      <td>0.723708</td>\n",
       "      <td>0.740578</td>\n",
       "      <td>0.997141</td>\n",
       "      <td>0.988204</td>\n",
       "      <td>1.000000</td>\n",
       "    </tr>\n",
       "  </tbody>\n",
       "</table>\n",
       "</div>"
      ],
      "text/plain": [
       "                floorsmin_avg  floorsmin_mode  floorsmin_medi  floorsmax_avg  \\\n",
       "floorsmin_avg        1.000000        0.986046        0.997352       0.742447   \n",
       "floorsmin_mode       0.986046        1.000000        0.988433       0.722966   \n",
       "floorsmin_medi       0.997352        0.988433        1.000000       0.740053   \n",
       "floorsmax_avg        0.742447        0.722966        0.740053       1.000000   \n",
       "floorsmax_mode       0.729350        0.727067        0.730022       0.985710   \n",
       "floorsmax_medi       0.740023        0.723708        0.740578       0.997141   \n",
       "\n",
       "                floorsmax_mode  floorsmax_medi  \n",
       "floorsmin_avg         0.729350        0.740023  \n",
       "floorsmin_mode        0.727067        0.723708  \n",
       "floorsmin_medi        0.730022        0.740578  \n",
       "floorsmax_avg         0.985710        0.997141  \n",
       "floorsmax_mode        1.000000        0.988204  \n",
       "floorsmax_medi        0.988204        1.000000  "
      ]
     },
     "execution_count": 8,
     "metadata": {},
     "output_type": "execute_result"
    }
   ],
   "source": [
    "data.loc[:,['floorsmin_avg','floorsmin_mode','floorsmin_medi','floorsmax_avg','floorsmax_mode','floorsmax_medi']].corr()"
   ]
  },
  {
   "cell_type": "markdown",
   "metadata": {},
   "source": [
    "Therefore, i remove all the \"mode\" and \"medi\" variables and keep the \"avg\" (they are the most correlated with the target). "
   ]
  },
  {
   "cell_type": "code",
   "execution_count": 9,
   "metadata": {},
   "outputs": [],
   "source": [
    "to_drop = ['apartments_mode', 'basementarea_mode','years_beginexpluatation_mode','years_build_mode','commonarea_mode','elevators_mode',\n",
    "           'entrances_mode','floorsmax_mode','floorsmin_mode','landarea_mode','livingapartments_mode','livingarea_mode',\n",
    "           'nonlivingapartments_mode','nonlivingarea_mode','apartments_medi','basementarea_medi','years_beginexpluatation_medi',\n",
    "           'years_build_medi','commonarea_medi','elevators_medi','entrances_medi','floorsmax_medi','floorsmin_medi','landarea_medi',\n",
    "           'livingapartments_medi','livingarea_medi','nonlivingapartments_medi','nonlivingarea_medi']\n",
    "\n",
    "# Drop from the data-sets\n",
    "for df in [data, holdout]:\n",
    "    df.drop(columns=to_drop, inplace = True)\n",
    "\n",
    "# Drop from the na_table as well\n",
    "na_table.drop(to_drop, axis='index', inplace=True)"
   ]
  },
  {
   "cell_type": "markdown",
   "metadata": {},
   "source": [
    "Another case of two variables representing almost the same information on how highly correlated."
   ]
  },
  {
   "cell_type": "code",
   "execution_count": 10,
   "metadata": {
    "scrolled": true
   },
   "outputs": [
    {
     "data": {
      "text/html": [
       "<div>\n",
       "<style scoped>\n",
       "    .dataframe tbody tr th:only-of-type {\n",
       "        vertical-align: middle;\n",
       "    }\n",
       "\n",
       "    .dataframe tbody tr th {\n",
       "        vertical-align: top;\n",
       "    }\n",
       "\n",
       "    .dataframe thead th {\n",
       "        text-align: right;\n",
       "    }\n",
       "</style>\n",
       "<table border=\"1\" class=\"dataframe\">\n",
       "  <thead>\n",
       "    <tr style=\"text-align: right;\">\n",
       "      <th></th>\n",
       "      <th>region_rating_client</th>\n",
       "      <th>region_rating_client_w_city</th>\n",
       "    </tr>\n",
       "  </thead>\n",
       "  <tbody>\n",
       "    <tr>\n",
       "      <th>region_rating_client</th>\n",
       "      <td>1.00000</td>\n",
       "      <td>0.95098</td>\n",
       "    </tr>\n",
       "    <tr>\n",
       "      <th>region_rating_client_w_city</th>\n",
       "      <td>0.95098</td>\n",
       "      <td>1.00000</td>\n",
       "    </tr>\n",
       "  </tbody>\n",
       "</table>\n",
       "</div>"
      ],
      "text/plain": [
       "                             region_rating_client  region_rating_client_w_city\n",
       "region_rating_client                      1.00000                      0.95098\n",
       "region_rating_client_w_city               0.95098                      1.00000"
      ]
     },
     "execution_count": 10,
     "metadata": {},
     "output_type": "execute_result"
    }
   ],
   "source": [
    "data[['region_rating_client','region_rating_client_w_city']].corr()"
   ]
  },
  {
   "cell_type": "markdown",
   "metadata": {},
   "source": [
    "`region_rating_client_w_city` is more coralted with the target variable so i keep it."
   ]
  },
  {
   "cell_type": "code",
   "execution_count": 11,
   "metadata": {},
   "outputs": [],
   "source": [
    "to_drop = ['region_rating_client']\n",
    "# Drop from the data-sets\n",
    "for df in [data, holdout]:\n",
    "    df.drop(columns=to_drop, inplace = True)\n",
    "\n",
    "# Drop from the na_table as well\n",
    "na_table.drop(to_drop, axis='index', inplace=True)"
   ]
  },
  {
   "cell_type": "code",
   "execution_count": 12,
   "metadata": {
    "scrolled": false
   },
   "outputs": [
    {
     "data": {
      "text/html": [
       "<div>\n",
       "<style scoped>\n",
       "    .dataframe tbody tr th:only-of-type {\n",
       "        vertical-align: middle;\n",
       "    }\n",
       "\n",
       "    .dataframe tbody tr th {\n",
       "        vertical-align: top;\n",
       "    }\n",
       "\n",
       "    .dataframe thead th {\n",
       "        text-align: right;\n",
       "    }\n",
       "</style>\n",
       "<table border=\"1\" class=\"dataframe\">\n",
       "  <thead>\n",
       "    <tr style=\"text-align: right;\">\n",
       "      <th></th>\n",
       "      <th>Na's Amount</th>\n",
       "      <th>Na's Percent</th>\n",
       "      <th>corr</th>\n",
       "      <th>variance</th>\n",
       "    </tr>\n",
       "    <tr>\n",
       "      <th>Variable</th>\n",
       "      <th></th>\n",
       "      <th></th>\n",
       "      <th></th>\n",
       "      <th></th>\n",
       "    </tr>\n",
       "  </thead>\n",
       "  <tbody>\n",
       "    <tr>\n",
       "      <th>commonarea_avg</th>\n",
       "      <td>171830</td>\n",
       "      <td>69.847322</td>\n",
       "      <td>0.018041</td>\n",
       "      <td>0.005798</td>\n",
       "    </tr>\n",
       "    <tr>\n",
       "      <th>nonlivingapartments_avg</th>\n",
       "      <td>170798</td>\n",
       "      <td>69.427823</td>\n",
       "      <td>0.001611</td>\n",
       "      <td>0.002277</td>\n",
       "    </tr>\n",
       "    <tr>\n",
       "      <th>fondkapremont_mode</th>\n",
       "      <td>168191</td>\n",
       "      <td>68.368102</td>\n",
       "      <td>NaN</td>\n",
       "      <td>NaN</td>\n",
       "    </tr>\n",
       "    <tr>\n",
       "      <th>livingapartments_avg</th>\n",
       "      <td>168151</td>\n",
       "      <td>68.351842</td>\n",
       "      <td>0.025508</td>\n",
       "      <td>0.008552</td>\n",
       "    </tr>\n",
       "    <tr>\n",
       "      <th>floorsmin_avg</th>\n",
       "      <td>166871</td>\n",
       "      <td>67.831534</td>\n",
       "      <td>0.034256</td>\n",
       "      <td>0.026015</td>\n",
       "    </tr>\n",
       "    <tr>\n",
       "      <th>years_build_avg</th>\n",
       "      <td>163544</td>\n",
       "      <td>66.479139</td>\n",
       "      <td>0.022383</td>\n",
       "      <td>0.012829</td>\n",
       "    </tr>\n",
       "    <tr>\n",
       "      <th>own_car_age</th>\n",
       "      <td>162329</td>\n",
       "      <td>65.985253</td>\n",
       "      <td>0.038309</td>\n",
       "      <td>142.078019</td>\n",
       "    </tr>\n",
       "    <tr>\n",
       "      <th>landarea_avg</th>\n",
       "      <td>146029</td>\n",
       "      <td>59.359452</td>\n",
       "      <td>0.009226</td>\n",
       "      <td>0.006598</td>\n",
       "    </tr>\n",
       "    <tr>\n",
       "      <th>basementarea_avg</th>\n",
       "      <td>143880</td>\n",
       "      <td>58.485903</td>\n",
       "      <td>0.021095</td>\n",
       "      <td>0.006762</td>\n",
       "    </tr>\n",
       "    <tr>\n",
       "      <th>ext_source_1</th>\n",
       "      <td>138528</td>\n",
       "      <td>56.310364</td>\n",
       "      <td>0.154947</td>\n",
       "      <td>0.044579</td>\n",
       "    </tr>\n",
       "    <tr>\n",
       "      <th>nonlivingarea_avg</th>\n",
       "      <td>135617</td>\n",
       "      <td>55.127069</td>\n",
       "      <td>0.012765</td>\n",
       "      <td>0.004826</td>\n",
       "    </tr>\n",
       "    <tr>\n",
       "      <th>elevators_avg</th>\n",
       "      <td>131001</td>\n",
       "      <td>53.250707</td>\n",
       "      <td>0.032805</td>\n",
       "      <td>0.018116</td>\n",
       "    </tr>\n",
       "    <tr>\n",
       "      <th>wallsmaterial_mode</th>\n",
       "      <td>125005</td>\n",
       "      <td>50.813388</td>\n",
       "      <td>NaN</td>\n",
       "      <td>NaN</td>\n",
       "    </tr>\n",
       "    <tr>\n",
       "      <th>apartments_avg</th>\n",
       "      <td>124764</td>\n",
       "      <td>50.715424</td>\n",
       "      <td>0.029255</td>\n",
       "      <td>0.011667</td>\n",
       "    </tr>\n",
       "    <tr>\n",
       "      <th>entrances_avg</th>\n",
       "      <td>123739</td>\n",
       "      <td>50.298771</td>\n",
       "      <td>0.019614</td>\n",
       "      <td>0.010031</td>\n",
       "    </tr>\n",
       "    <tr>\n",
       "      <th>housetype_mode</th>\n",
       "      <td>123367</td>\n",
       "      <td>50.147556</td>\n",
       "      <td>NaN</td>\n",
       "      <td>NaN</td>\n",
       "    </tr>\n",
       "    <tr>\n",
       "      <th>livingarea_avg</th>\n",
       "      <td>123356</td>\n",
       "      <td>50.143085</td>\n",
       "      <td>0.032736</td>\n",
       "      <td>0.012200</td>\n",
       "    </tr>\n",
       "    <tr>\n",
       "      <th>floorsmax_avg</th>\n",
       "      <td>122325</td>\n",
       "      <td>49.723993</td>\n",
       "      <td>0.044135</td>\n",
       "      <td>0.020890</td>\n",
       "    </tr>\n",
       "    <tr>\n",
       "      <th>years_beginexpluatation_avg</th>\n",
       "      <td>119935</td>\n",
       "      <td>48.752480</td>\n",
       "      <td>0.008216</td>\n",
       "      <td>0.003401</td>\n",
       "    </tr>\n",
       "    <tr>\n",
       "      <th>totalarea_mode</th>\n",
       "      <td>118643</td>\n",
       "      <td>48.227293</td>\n",
       "      <td>0.032531</td>\n",
       "      <td>0.011547</td>\n",
       "    </tr>\n",
       "  </tbody>\n",
       "</table>\n",
       "</div>"
      ],
      "text/plain": [
       "                             Na's Amount  Na's Percent      corr    variance\n",
       "Variable                                                                    \n",
       "commonarea_avg                    171830     69.847322  0.018041    0.005798\n",
       "nonlivingapartments_avg           170798     69.427823  0.001611    0.002277\n",
       "fondkapremont_mode                168191     68.368102       NaN         NaN\n",
       "livingapartments_avg              168151     68.351842  0.025508    0.008552\n",
       "floorsmin_avg                     166871     67.831534  0.034256    0.026015\n",
       "years_build_avg                   163544     66.479139  0.022383    0.012829\n",
       "own_car_age                       162329     65.985253  0.038309  142.078019\n",
       "landarea_avg                      146029     59.359452  0.009226    0.006598\n",
       "basementarea_avg                  143880     58.485903  0.021095    0.006762\n",
       "ext_source_1                      138528     56.310364  0.154947    0.044579\n",
       "nonlivingarea_avg                 135617     55.127069  0.012765    0.004826\n",
       "elevators_avg                     131001     53.250707  0.032805    0.018116\n",
       "wallsmaterial_mode                125005     50.813388       NaN         NaN\n",
       "apartments_avg                    124764     50.715424  0.029255    0.011667\n",
       "entrances_avg                     123739     50.298771  0.019614    0.010031\n",
       "housetype_mode                    123367     50.147556       NaN         NaN\n",
       "livingarea_avg                    123356     50.143085  0.032736    0.012200\n",
       "floorsmax_avg                     122325     49.723993  0.044135    0.020890\n",
       "years_beginexpluatation_avg       119935     48.752480  0.008216    0.003401\n",
       "totalarea_mode                    118643     48.227293  0.032531    0.011547"
      ]
     },
     "execution_count": 12,
     "metadata": {},
     "output_type": "execute_result"
    }
   ],
   "source": [
    "# print var with the most NA's\n",
    "na_table.sort_values(by=\"Na's Percent\",ascending=False)[:20]"
   ]
  },
  {
   "cell_type": "code",
   "execution_count": 13,
   "metadata": {},
   "outputs": [
    {
     "data": {
      "text/html": [
       "<div>\n",
       "<style scoped>\n",
       "    .dataframe tbody tr th:only-of-type {\n",
       "        vertical-align: middle;\n",
       "    }\n",
       "\n",
       "    .dataframe tbody tr th {\n",
       "        vertical-align: top;\n",
       "    }\n",
       "\n",
       "    .dataframe thead th {\n",
       "        text-align: right;\n",
       "    }\n",
       "</style>\n",
       "<table border=\"1\" class=\"dataframe\">\n",
       "  <thead>\n",
       "    <tr style=\"text-align: right;\">\n",
       "      <th></th>\n",
       "      <th>Na's Amount</th>\n",
       "      <th>Na's Percent</th>\n",
       "      <th>corr</th>\n",
       "      <th>variance</th>\n",
       "    </tr>\n",
       "    <tr>\n",
       "      <th>Variable</th>\n",
       "      <th></th>\n",
       "      <th></th>\n",
       "      <th></th>\n",
       "      <th></th>\n",
       "    </tr>\n",
       "  </thead>\n",
       "  <tbody>\n",
       "    <tr>\n",
       "      <th>flag_mobil</th>\n",
       "      <td>0</td>\n",
       "      <td>0.000000</td>\n",
       "      <td>NaN</td>\n",
       "      <td>0.000000</td>\n",
       "    </tr>\n",
       "    <tr>\n",
       "      <th>flag_document_12</th>\n",
       "      <td>0</td>\n",
       "      <td>0.000000</td>\n",
       "      <td>0.000845</td>\n",
       "      <td>0.000008</td>\n",
       "    </tr>\n",
       "    <tr>\n",
       "      <th>flag_document_10</th>\n",
       "      <td>0</td>\n",
       "      <td>0.000000</td>\n",
       "      <td>0.001581</td>\n",
       "      <td>0.000028</td>\n",
       "    </tr>\n",
       "    <tr>\n",
       "      <th>flag_document_2</th>\n",
       "      <td>0</td>\n",
       "      <td>0.000000</td>\n",
       "      <td>0.004340</td>\n",
       "      <td>0.000049</td>\n",
       "    </tr>\n",
       "    <tr>\n",
       "      <th>flag_document_4</th>\n",
       "      <td>0</td>\n",
       "      <td>0.000000</td>\n",
       "      <td>0.002672</td>\n",
       "      <td>0.000081</td>\n",
       "    </tr>\n",
       "    <tr>\n",
       "      <th>flag_document_7</th>\n",
       "      <td>0</td>\n",
       "      <td>0.000000</td>\n",
       "      <td>0.001732</td>\n",
       "      <td>0.000179</td>\n",
       "    </tr>\n",
       "    <tr>\n",
       "      <th>region_population_relative</th>\n",
       "      <td>0</td>\n",
       "      <td>0.000000</td>\n",
       "      <td>0.036600</td>\n",
       "      <td>0.000191</td>\n",
       "    </tr>\n",
       "    <tr>\n",
       "      <th>flag_document_17</th>\n",
       "      <td>0</td>\n",
       "      <td>0.000000</td>\n",
       "      <td>0.002930</td>\n",
       "      <td>0.000260</td>\n",
       "    </tr>\n",
       "    <tr>\n",
       "      <th>flag_document_21</th>\n",
       "      <td>0</td>\n",
       "      <td>0.000000</td>\n",
       "      <td>0.003759</td>\n",
       "      <td>0.000325</td>\n",
       "    </tr>\n",
       "    <tr>\n",
       "      <th>flag_document_20</th>\n",
       "      <td>0</td>\n",
       "      <td>0.000000</td>\n",
       "      <td>0.001091</td>\n",
       "      <td>0.000520</td>\n",
       "    </tr>\n",
       "    <tr>\n",
       "      <th>flag_document_19</th>\n",
       "      <td>0</td>\n",
       "      <td>0.000000</td>\n",
       "      <td>0.001537</td>\n",
       "      <td>0.000634</td>\n",
       "    </tr>\n",
       "    <tr>\n",
       "      <th>flag_document_15</th>\n",
       "      <td>0</td>\n",
       "      <td>0.000000</td>\n",
       "      <td>0.006483</td>\n",
       "      <td>0.001214</td>\n",
       "    </tr>\n",
       "    <tr>\n",
       "      <th>flag_cont_mobile</th>\n",
       "      <td>0</td>\n",
       "      <td>0.000000</td>\n",
       "      <td>0.000474</td>\n",
       "      <td>0.001879</td>\n",
       "    </tr>\n",
       "    <tr>\n",
       "      <th>nonlivingapartments_avg</th>\n",
       "      <td>170798</td>\n",
       "      <td>69.427823</td>\n",
       "      <td>0.001611</td>\n",
       "      <td>0.002277</td>\n",
       "    </tr>\n",
       "    <tr>\n",
       "      <th>flag_document_14</th>\n",
       "      <td>0</td>\n",
       "      <td>0.000000</td>\n",
       "      <td>0.009252</td>\n",
       "      <td>0.002874</td>\n",
       "    </tr>\n",
       "    <tr>\n",
       "      <th>years_beginexpluatation_avg</th>\n",
       "      <td>119935</td>\n",
       "      <td>48.752480</td>\n",
       "      <td>0.008216</td>\n",
       "      <td>0.003401</td>\n",
       "    </tr>\n",
       "    <tr>\n",
       "      <th>flag_document_13</th>\n",
       "      <td>0</td>\n",
       "      <td>0.000000</td>\n",
       "      <td>0.010981</td>\n",
       "      <td>0.003629</td>\n",
       "    </tr>\n",
       "    <tr>\n",
       "      <th>flag_document_9</th>\n",
       "      <td>0</td>\n",
       "      <td>0.000000</td>\n",
       "      <td>0.004308</td>\n",
       "      <td>0.003859</td>\n",
       "    </tr>\n",
       "    <tr>\n",
       "      <th>flag_document_11</th>\n",
       "      <td>0</td>\n",
       "      <td>0.000000</td>\n",
       "      <td>0.004154</td>\n",
       "      <td>0.003879</td>\n",
       "    </tr>\n",
       "    <tr>\n",
       "      <th>nonlivingarea_avg</th>\n",
       "      <td>135617</td>\n",
       "      <td>55.127069</td>\n",
       "      <td>0.012765</td>\n",
       "      <td>0.004826</td>\n",
       "    </tr>\n",
       "  </tbody>\n",
       "</table>\n",
       "</div>"
      ],
      "text/plain": [
       "                             Na's Amount  Na's Percent      corr  variance\n",
       "Variable                                                                  \n",
       "flag_mobil                             0      0.000000       NaN  0.000000\n",
       "flag_document_12                       0      0.000000  0.000845  0.000008\n",
       "flag_document_10                       0      0.000000  0.001581  0.000028\n",
       "flag_document_2                        0      0.000000  0.004340  0.000049\n",
       "flag_document_4                        0      0.000000  0.002672  0.000081\n",
       "flag_document_7                        0      0.000000  0.001732  0.000179\n",
       "region_population_relative             0      0.000000  0.036600  0.000191\n",
       "flag_document_17                       0      0.000000  0.002930  0.000260\n",
       "flag_document_21                       0      0.000000  0.003759  0.000325\n",
       "flag_document_20                       0      0.000000  0.001091  0.000520\n",
       "flag_document_19                       0      0.000000  0.001537  0.000634\n",
       "flag_document_15                       0      0.000000  0.006483  0.001214\n",
       "flag_cont_mobile                       0      0.000000  0.000474  0.001879\n",
       "nonlivingapartments_avg           170798     69.427823  0.001611  0.002277\n",
       "flag_document_14                       0      0.000000  0.009252  0.002874\n",
       "years_beginexpluatation_avg       119935     48.752480  0.008216  0.003401\n",
       "flag_document_13                       0      0.000000  0.010981  0.003629\n",
       "flag_document_9                        0      0.000000  0.004308  0.003859\n",
       "flag_document_11                       0      0.000000  0.004154  0.003879\n",
       "nonlivingarea_avg                 135617     55.127069  0.012765  0.004826"
      ]
     },
     "execution_count": 13,
     "metadata": {},
     "output_type": "execute_result"
    }
   ],
   "source": [
    "# print var with the most NA's\n",
    "na_table.sort_values(by=\"variance\",ascending=True)[:20]"
   ]
  },
  {
   "cell_type": "markdown",
   "metadata": {},
   "source": [
    "### Near zero variance"
   ]
  },
  {
   "cell_type": "markdown",
   "metadata": {},
   "source": [
    "If the variable has a variance lower than 0.001 and less than 5 categories, then it does not add information."
   ]
  },
  {
   "cell_type": "code",
   "execution_count": 14,
   "metadata": {},
   "outputs": [
    {
     "name": "stdout",
     "output_type": "stream",
     "text": [
      "flag_mobil variable with 0.0 variance has been removed\n",
      "flag_document_2 variable with 4.8776720390913225e-05 variance has been removed\n",
      "flag_document_4 variable with 8.129189021710357e-05 variance has been removed\n",
      "flag_document_7 variable with 0.00017882470961036085 variance has been removed\n",
      "flag_document_10 variable with 2.8453665218628923e-05 variance has been removed\n",
      "flag_document_12 variable with 8.129783869425947e-06 variance has been removed\n",
      "flag_document_17 variable with 0.00026008751838272395 variance has been removed\n",
      "flag_document_19 variable with 0.0006337261801018158 variance has been removed\n",
      "flag_document_20 variable with 0.0005200396758605112 variance has been removed\n",
      "flag_document_21 variable with 0.0003250882478365397 variance has been removed\n"
     ]
    }
   ],
   "source": [
    "#remove near zero variance\n",
    "for col in data.columns:\n",
    "    if data[col].dtype != 'object':\n",
    "        if data[col].var()<0.001:\n",
    "            if len(data[col].unique()) < 5:\n",
    "                \n",
    "                print(\"{0} variable with {1} variance has been removed\".format(col,data[col].var()))\n",
    "                \n",
    "                data.drop(columns=[col], inplace=True)\n",
    "                holdout.drop(columns=[col], inplace=True)"
   ]
  },
  {
   "cell_type": "markdown",
   "metadata": {},
   "source": [
    "### Fix columns"
   ]
  },
  {
   "cell_type": "markdown",
   "metadata": {},
   "source": [
    "In the `organization_type` variable I'm combining the different organization's types into the same class, and change XNA to np.nan."
   ]
  },
  {
   "cell_type": "code",
   "execution_count": 15,
   "metadata": {
    "scrolled": true
   },
   "outputs": [
    {
     "data": {
      "text/plain": [
       "array(['Business Entity Type 3', 'Business Entity Type 2', 'Security',\n",
       "       'XNA', 'Business Entity Type 1', 'Government', 'Trade: type 7',\n",
       "       'School', 'Transport: type 4', 'Kindergarten', 'Other',\n",
       "       'Self-employed', 'Advertising', 'Insurance', 'Construction',\n",
       "       'Industry: type 9', 'Trade: type 2', 'Military',\n",
       "       'Industry: type 3', 'Medicine', 'Electricity', 'Housing',\n",
       "       'Agriculture', 'Postal', 'Industry: type 7', 'Telecom',\n",
       "       'Emergency', 'Transport: type 1', 'Industry: type 5',\n",
       "       'Trade: type 3', 'Security Ministries', 'Industry: type 11',\n",
       "       'Bank', 'Restaurant', 'Transport: type 3', 'University', 'Police',\n",
       "       'Trade: type 1', 'Trade: type 6', 'Industry: type 2',\n",
       "       'Transport: type 2', 'Hotel', 'Cleaning', 'Mobile', 'Services',\n",
       "       'Industry: type 4', 'Industry: type 1', 'Industry: type 12',\n",
       "       'Industry: type 6', 'Legal Services', 'Culture', 'Realtor',\n",
       "       'Religion', 'Industry: type 13', 'Trade: type 4',\n",
       "       'Industry: type 8', 'Industry: type 10', 'Trade: type 5'],\n",
       "      dtype=object)"
      ]
     },
     "execution_count": 15,
     "metadata": {},
     "output_type": "execute_result"
    }
   ],
   "source": [
    "data['organization_type'].unique()"
   ]
  },
  {
   "cell_type": "code",
   "execution_count": 16,
   "metadata": {},
   "outputs": [],
   "source": [
    "# organization_type\n",
    "char = [':','\\d+', 'Type', 'type']\n",
    "\n",
    "for df in [data, holdout]:\n",
    "    for c in char:\n",
    "        df['organization_type'] = df['organization_type'].str.strip()\n",
    "        df['organization_type'] = df['organization_type'].str.replace(c,'')\n",
    "        df.loc[df['organization_type'] == 'XNA','organization_type'] = 'Not mentioned'"
   ]
  },
  {
   "cell_type": "markdown",
   "metadata": {},
   "source": [
    "In `code_gender` there are 'XNA' values instead of NA. "
   ]
  },
  {
   "cell_type": "code",
   "execution_count": 17,
   "metadata": {},
   "outputs": [],
   "source": [
    "# code_gender\n",
    "for df in [data, holdout]:\n",
    "    df.loc[df['code_gender'] == 'XNA','code_gender'] = np.nan"
   ]
  },
  {
   "cell_type": "markdown",
   "metadata": {},
   "source": [
    "The variables: `days_birth`,`days_employed`,`days_registration`,`days_id_publish` are in days and in negative values.\n",
    "It would make more sense to convert them to years and positive values."
   ]
  },
  {
   "cell_type": "code",
   "execution_count": 18,
   "metadata": {
    "scrolled": true
   },
   "outputs": [],
   "source": [
    "var_to_drop = ['days_birth','days_employed','days_registration','days_id_publish']\n",
    "\n",
    "for df in [data,holdout]:\n",
    "    df['age'] = df['days_birth']/-365\n",
    "    df['years_employed'] = df['days_employed']/-365\n",
    "    df['years_registration'] = df['days_registration']/-365\n",
    "    df['years_id_publish'] = df['days_id_publish']/-365\n",
    "\n",
    "    df.drop(columns=var_to_drop, inplace = True)\n"
   ]
  },
  {
   "cell_type": "markdown",
   "metadata": {},
   "source": [
    "### Dealing with Na's"
   ]
  },
  {
   "cell_type": "markdown",
   "metadata": {},
   "source": [
    "Remove any column with more than 60% missing values, except `own_car_age` because, in this case, Na means the customer has no car.\n",
    "Later on, I will create a feature with regard to the car age.\n",
    "\n",
    "Only 5 observations are really missing."
   ]
  },
  {
   "cell_type": "code",
   "execution_count": 19,
   "metadata": {
    "scrolled": true
   },
   "outputs": [
    {
     "name": "stdout",
     "output_type": "stream",
     "text": [
      "Missing values: 162329\n",
      "Customers with no car: 162324\n",
      "NA's: 5\n"
     ]
    }
   ],
   "source": [
    "print(\"Missing values:\", data['own_car_age'].isnull().sum())\n",
    "print(\"Customers with no car:\", sum(data['flag_own_car']=='N'))\n",
    "print(\"NA's:\", str((data['own_car_age'].isnull().sum())-(sum(data['flag_own_car']=='N'))))"
   ]
  },
  {
   "cell_type": "markdown",
   "metadata": {},
   "source": [
    "#### `own_car_age` variable"
   ]
  },
  {
   "cell_type": "code",
   "execution_count": 20,
   "metadata": {},
   "outputs": [],
   "source": [
    "# List of the columns with more than 60% NA's\n",
    "var_to_drop = list(na_table[na_table[\"Na's Percent\"] > 60].index)\n",
    "var_to_drop = var_to_drop[3:]     # Not including own_car_age, ext_source_1,occupation_type\n",
    "\n",
    "# Drop from the data-sets\n",
    "for df in [data, holdout]:\n",
    "    df.drop(columns=var_to_drop, inplace = True)"
   ]
  },
  {
   "cell_type": "code",
   "execution_count": 21,
   "metadata": {
    "scrolled": false
   },
   "outputs": [
    {
     "data": {
      "text/plain": [
       "<matplotlib.axes._subplots.AxesSubplot at 0x1f3e57c1a20>"
      ]
     },
     "execution_count": 21,
     "metadata": {},
     "output_type": "execute_result"
    },
    {
     "data": {
      "image/png": "[encoded data removed]",
      "text/plain": [
       "<Figure size 720x576 with 1 Axes>"
      ]
     },
     "metadata": {
      "needs_background": "light"
     },
     "output_type": "display_data"
    }
   ],
   "source": [
    "plt.figure(figsize = (10, 8))\n",
    "\n",
    "sns.kdeplot(data.loc[data['target'] == 0, 'own_car_age'], label = 'target == 0')\n",
    "\n",
    "sns.kdeplot(data.loc[data['target'] == 1, 'own_car_age'], label = 'target == 1')\n"
   ]
  },
  {
   "cell_type": "code",
   "execution_count": 22,
   "metadata": {},
   "outputs": [],
   "source": [
    "# Bin the car age data\n",
    "\n",
    "for df in [data, holdout]:\n",
    "    df['own_car_age_binned'] = \"Doesn't has car\"\n",
    "    \n",
    "    df.loc[df['own_car_age'] <= 3, 'own_car_age_binned'] = \"0-3\"\n",
    "    df.loc[(df['own_car_age'] > 3) & (df['own_car_age'] <= 5), 'own_car_age_binned'] = \"3-5\"\n",
    "    df.loc[(df['own_car_age'] > 5) & (df['own_car_age'] <= 10), 'own_car_age_binned'] = \"5-10\"\n",
    "    df.loc[(df['own_car_age'] > 10) & (df['own_car_age'] <= 15), 'own_car_age_binned'] = \"10-15\"\n",
    "    df.loc[(df['own_car_age'] > 15) & (df['own_car_age'] <= 20), 'own_car_age_binned'] = \"15-20\"\n",
    "    df.loc[(df['own_car_age'] > 20) & (df['own_car_age'] <= 40), 'own_car_age_binned'] = \"20-40\"\n",
    "    df.loc[df['own_car_age'] > 40, 'own_car_age_binned'] = \"40+\""
   ]
  },
  {
   "cell_type": "code",
   "execution_count": 23,
   "metadata": {},
   "outputs": [],
   "source": [
    "# Drop the own_car_age variable\n",
    "\n",
    "for df in [data, holdout]:\n",
    "    df.drop(columns=['own_car_age'], axis=1, inplace = True)"
   ]
  },
  {
   "cell_type": "code",
   "execution_count": 24,
   "metadata": {
    "scrolled": false
   },
   "outputs": [
    {
     "data": {
      "text/html": [
       "<div>\n",
       "<style scoped>\n",
       "    .dataframe tbody tr th:only-of-type {\n",
       "        vertical-align: middle;\n",
       "    }\n",
       "\n",
       "    .dataframe tbody tr th {\n",
       "        vertical-align: top;\n",
       "    }\n",
       "\n",
       "    .dataframe thead th {\n",
       "        text-align: right;\n",
       "    }\n",
       "</style>\n",
       "<table border=\"1\" class=\"dataframe\">\n",
       "  <thead>\n",
       "    <tr style=\"text-align: right;\">\n",
       "      <th>own_car_age_binned</th>\n",
       "      <th>0-3</th>\n",
       "      <th>10-15</th>\n",
       "      <th>15-20</th>\n",
       "      <th>20-40</th>\n",
       "      <th>3-5</th>\n",
       "      <th>40+</th>\n",
       "      <th>5-10</th>\n",
       "      <th>Doesn't has car</th>\n",
       "    </tr>\n",
       "    <tr>\n",
       "      <th>target</th>\n",
       "      <th></th>\n",
       "      <th></th>\n",
       "      <th></th>\n",
       "      <th></th>\n",
       "      <th></th>\n",
       "      <th></th>\n",
       "      <th></th>\n",
       "      <th></th>\n",
       "    </tr>\n",
       "  </thead>\n",
       "  <tbody>\n",
       "    <tr>\n",
       "      <th>0</th>\n",
       "      <td>0.065475</td>\n",
       "      <td>0.068234</td>\n",
       "      <td>0.039187</td>\n",
       "      <td>0.030449</td>\n",
       "      <td>0.030648</td>\n",
       "      <td>0.011333</td>\n",
       "      <td>0.097927</td>\n",
       "      <td>0.656747</td>\n",
       "    </tr>\n",
       "    <tr>\n",
       "      <th>1</th>\n",
       "      <td>0.045821</td>\n",
       "      <td>0.070342</td>\n",
       "      <td>0.043656</td>\n",
       "      <td>0.037563</td>\n",
       "      <td>0.019688</td>\n",
       "      <td>0.011883</td>\n",
       "      <td>0.075831</td>\n",
       "      <td>0.695217</td>\n",
       "    </tr>\n",
       "  </tbody>\n",
       "</table>\n",
       "</div>"
      ],
      "text/plain": [
       "own_car_age_binned       0-3     10-15     15-20     20-40       3-5  \\\n",
       "target                                                                 \n",
       "0                   0.065475  0.068234  0.039187  0.030449  0.030648   \n",
       "1                   0.045821  0.070342  0.043656  0.037563  0.019688   \n",
       "\n",
       "own_car_age_binned       40+      5-10  Doesn't has car  \n",
       "target                                                   \n",
       "0                   0.011333  0.097927         0.656747  \n",
       "1                   0.011883  0.075831         0.695217  "
      ]
     },
     "execution_count": 24,
     "metadata": {},
     "output_type": "execute_result"
    }
   ],
   "source": [
    "pd.crosstab(data['target'], data['own_car_age_binned'],dropna=False, normalize=0)"
   ]
  },
  {
   "cell_type": "markdown",
   "metadata": {},
   "source": [
    "#### `name_type_suite`  and `occupation_type` variables"
   ]
  },
  {
   "cell_type": "code",
   "execution_count": 25,
   "metadata": {},
   "outputs": [],
   "source": [
    "for df in [data, holdout]:\n",
    "    df['name_type_suite'].fillna('Not mentioned', inplace=True)\n",
    "    df['occupation_type'].fillna('Not mentioned', inplace=True)"
   ]
  },
  {
   "cell_type": "markdown",
   "metadata": {},
   "source": [
    "#### `amt_annuity` variable\n",
    "\n",
    "There are only 11 cases that have no information about the periodic payment. Furthermore, all these cases came from non-default clients, so I remove these observations."
   ]
  },
  {
   "cell_type": "code",
   "execution_count": 26,
   "metadata": {
    "scrolled": true
   },
   "outputs": [
    {
     "name": "stdout",
     "output_type": "stream",
     "text": [
      "There are: 11  missing values\n",
      "And they have: 0  default client\n"
     ]
    }
   ],
   "source": [
    "print(\"There are: \" +str(data['amt_annuity'].isnull().sum())+\"  missing values\")\n",
    "print(\"And they have: \"+str(data.loc[data['amt_annuity'].isnull(), 'target'].sum())+\"  default client\")\n",
    "\n",
    "for df in [data, holdout]:\n",
    "    to_drop = list(df[df['amt_annuity'].isnull()].index)\n",
    "    df.drop(to_drop, axis=0, inplace=True)"
   ]
  },
  {
   "cell_type": "markdown",
   "metadata": {},
   "source": [
    "#### \"amt_goods_price\"  Varible\n",
    "\n",
    "`amt_goods_price` is the price of the goods for which the loan is given.\n",
    "Filling the missing value with the loan total amount (`amt_credit` variable)."
   ]
  },
  {
   "cell_type": "code",
   "execution_count": 27,
   "metadata": {},
   "outputs": [],
   "source": [
    "for df in [data, holdout]:\n",
    "    df.loc[df.amt_goods_price.isnull(),\"amt_goods_price\"] = df.loc[df.amt_goods_price.isnull(),\"amt_credit\"]   "
   ]
  },
  {
   "cell_type": "markdown",
   "metadata": {},
   "source": [
    "## Feature Engineering"
   ]
  },
  {
   "cell_type": "markdown",
   "metadata": {},
   "source": [
    "- `crdit_from_income` is the ratio between the credit amount relative to a client's income.\n",
    "\n",
    "    A client with a high salary can take a higher loan without being a risky client, unlike a client with a low salary.\n",
    "\n",
    "\n",
    "- `crdit_from_income_and_assets` is the ratio between the credit amount relative to a client's income plus the asset's value.\n",
    "\n",
    "    Same as `crdit_from_income` but taking into consideration the asset's value.\n",
    "    \n",
    "    \n",
    "- `credit_terms` is the length of the loan (define as the periodic payment divided by the total credit amount).\n",
    "    \n",
    "    It is reasonable to check whether the loan term affects the probability of being default.\n",
    "    \n",
    "    \n",
    "- `employed_from_age` is the client's years of employment relative to the client's age.\n",
    "    \n",
    "    It could be a situation that the client has a relatively large amount of years of employment just because they are old people."
   ]
  },
  {
   "cell_type": "code",
   "execution_count": 28,
   "metadata": {},
   "outputs": [],
   "source": [
    "for df in [data, holdout]:\n",
    "    df['crdit_from_income'] = df['amt_credit'] / df['amt_income_total']\n",
    "    df['crdit_from_income_and_assets'] = df['amt_credit'] / (df['amt_income_total'] + df['amt_goods_price'])\n",
    "    df['credit_terms'] = df['amt_annuity'] / df['amt_credit']\n",
    "    df['employed_from_age'] = df['age'] / df['years_employed']"
   ]
  },
  {
   "cell_type": "markdown",
   "metadata": {},
   "source": [
    "#### Create instrumental variable from the external sources"
   ]
  },
  {
   "cell_type": "code",
   "execution_count": 29,
   "metadata": {},
   "outputs": [],
   "source": [
    "for df in [data, holdout]:    \n",
    "    df['ext_source_1+2'] = df['ext_source_1'] * df['ext_source_2']\n",
    "    df['ext_source_2+3'] = df['ext_source_2'] * df['ext_source_3']\n",
    "    df['ext_source_1+3'] = df['ext_source_1'] * df['ext_source_3']\n",
    "    df['ext_source_1+2+3'] = df['ext_source_1'] * df['ext_source_2'] * df['ext_source_3']"
   ]
  },
  {
   "cell_type": "markdown",
   "metadata": {},
   "source": [
    "#### Create polynomial Features from the most correlated variables"
   ]
  },
  {
   "cell_type": "code",
   "execution_count": 30,
   "metadata": {},
   "outputs": [],
   "source": [
    "for df in [data, holdout]: \n",
    "    df['ext_source_1^2'] = df['ext_source_1']**2\n",
    "    df['ext_source_2^2'] = df['ext_source_2']**2\n",
    "    df['ext_source_3^2'] = df['ext_source_3']**2\n",
    "    df['age^2'] =df['age']**2\n",
    "    df['region_rating_client_w_city^2'] = df['region_rating_client_w_city']**2"
   ]
  },
  {
   "cell_type": "markdown",
   "metadata": {},
   "source": [
    "Check if there is a high correlation between the external sources variables"
   ]
  },
  {
   "cell_type": "code",
   "execution_count": 31,
   "metadata": {
    "scrolled": false
   },
   "outputs": [
    {
     "data": {
      "text/html": [
       "<div>\n",
       "<style scoped>\n",
       "    .dataframe tbody tr th:only-of-type {\n",
       "        vertical-align: middle;\n",
       "    }\n",
       "\n",
       "    .dataframe tbody tr th {\n",
       "        vertical-align: top;\n",
       "    }\n",
       "\n",
       "    .dataframe thead th {\n",
       "        text-align: right;\n",
       "    }\n",
       "</style>\n",
       "<table border=\"1\" class=\"dataframe\">\n",
       "  <thead>\n",
       "    <tr style=\"text-align: right;\">\n",
       "      <th></th>\n",
       "      <th>ext_source_1</th>\n",
       "      <th>ext_source_2</th>\n",
       "      <th>ext_source_3</th>\n",
       "      <th>ext_source_1+2</th>\n",
       "      <th>ext_source_2+3</th>\n",
       "      <th>ext_source_1+3</th>\n",
       "      <th>ext_source_1+2+3</th>\n",
       "    </tr>\n",
       "  </thead>\n",
       "  <tbody>\n",
       "    <tr>\n",
       "      <th>ext_source_1</th>\n",
       "      <td>1.000000</td>\n",
       "      <td>0.212282</td>\n",
       "      <td>0.186948</td>\n",
       "      <td>0.807819</td>\n",
       "      <td>0.249198</td>\n",
       "      <td>0.761159</td>\n",
       "      <td>0.680861</td>\n",
       "    </tr>\n",
       "    <tr>\n",
       "      <th>ext_source_2</th>\n",
       "      <td>0.212282</td>\n",
       "      <td>1.000000</td>\n",
       "      <td>0.110362</td>\n",
       "      <td>0.695373</td>\n",
       "      <td>0.704299</td>\n",
       "      <td>0.196104</td>\n",
       "      <td>0.561008</td>\n",
       "    </tr>\n",
       "    <tr>\n",
       "      <th>ext_source_3</th>\n",
       "      <td>0.186948</td>\n",
       "      <td>0.110362</td>\n",
       "      <td>1.000000</td>\n",
       "      <td>0.188554</td>\n",
       "      <td>0.736821</td>\n",
       "      <td>0.727366</td>\n",
       "      <td>0.619295</td>\n",
       "    </tr>\n",
       "    <tr>\n",
       "      <th>ext_source_1+2</th>\n",
       "      <td>0.807819</td>\n",
       "      <td>0.695373</td>\n",
       "      <td>0.188554</td>\n",
       "      <td>1.000000</td>\n",
       "      <td>0.556909</td>\n",
       "      <td>0.640313</td>\n",
       "      <td>0.834975</td>\n",
       "    </tr>\n",
       "    <tr>\n",
       "      <th>ext_source_2+3</th>\n",
       "      <td>0.249198</td>\n",
       "      <td>0.704299</td>\n",
       "      <td>0.736821</td>\n",
       "      <td>0.556909</td>\n",
       "      <td>1.000000</td>\n",
       "      <td>0.634237</td>\n",
       "      <td>0.823467</td>\n",
       "    </tr>\n",
       "    <tr>\n",
       "      <th>ext_source_1+3</th>\n",
       "      <td>0.761159</td>\n",
       "      <td>0.196104</td>\n",
       "      <td>0.727366</td>\n",
       "      <td>0.640313</td>\n",
       "      <td>0.634237</td>\n",
       "      <td>1.000000</td>\n",
       "      <td>0.878491</td>\n",
       "    </tr>\n",
       "    <tr>\n",
       "      <th>ext_source_1+2+3</th>\n",
       "      <td>0.680861</td>\n",
       "      <td>0.561008</td>\n",
       "      <td>0.619295</td>\n",
       "      <td>0.834975</td>\n",
       "      <td>0.823467</td>\n",
       "      <td>0.878491</td>\n",
       "      <td>1.000000</td>\n",
       "    </tr>\n",
       "  </tbody>\n",
       "</table>\n",
       "</div>"
      ],
      "text/plain": [
       "                  ext_source_1  ext_source_2  ext_source_3  ext_source_1+2  \\\n",
       "ext_source_1          1.000000      0.212282      0.186948        0.807819   \n",
       "ext_source_2          0.212282      1.000000      0.110362        0.695373   \n",
       "ext_source_3          0.186948      0.110362      1.000000        0.188554   \n",
       "ext_source_1+2        0.807819      0.695373      0.188554        1.000000   \n",
       "ext_source_2+3        0.249198      0.704299      0.736821        0.556909   \n",
       "ext_source_1+3        0.761159      0.196104      0.727366        0.640313   \n",
       "ext_source_1+2+3      0.680861      0.561008      0.619295        0.834975   \n",
       "\n",
       "                  ext_source_2+3  ext_source_1+3  ext_source_1+2+3  \n",
       "ext_source_1            0.249198        0.761159          0.680861  \n",
       "ext_source_2            0.704299        0.196104          0.561008  \n",
       "ext_source_3            0.736821        0.727366          0.619295  \n",
       "ext_source_1+2          0.556909        0.640313          0.834975  \n",
       "ext_source_2+3          1.000000        0.634237          0.823467  \n",
       "ext_source_1+3          0.634237        1.000000          0.878491  \n",
       "ext_source_1+2+3        0.823467        0.878491          1.000000  "
      ]
     },
     "execution_count": 31,
     "metadata": {},
     "output_type": "execute_result"
    }
   ],
   "source": [
    "data[['ext_source_1','ext_source_2','ext_source_3','ext_source_1+2','ext_source_2+3','ext_source_1+3','ext_source_1+2+3']].corr()"
   ]
  },
  {
   "cell_type": "markdown",
   "metadata": {},
   "source": [
    "## Preparing the data for modeling"
   ]
  },
  {
   "cell_type": "markdown",
   "metadata": {},
   "source": [
    "### Categorical variables"
   ]
  },
  {
   "cell_type": "markdown",
   "metadata": {},
   "source": [
    "Change the `name_contract_type` to `is_revolving_loans`."
   ]
  },
  {
   "cell_type": "code",
   "execution_count": 32,
   "metadata": {},
   "outputs": [],
   "source": [
    "# name_contract_type\n",
    "for df in [data, holdout]:\n",
    "    df['is_revolving_loans'] = 0\n",
    "    df.loc[df['name_contract_type'] == 'Revolving loans','is_revolving_loans'] = 1\n",
    "    df.drop(columns=['name_contract_type'], inplace=True)"
   ]
  },
  {
   "cell_type": "code",
   "execution_count": 33,
   "metadata": {},
   "outputs": [],
   "source": [
    "cols = ['code_gender', 'flag_own_realty', 'emergencystate_mode','housetype_mode', 'wallsmaterial_mode']\n",
    "\n",
    "encod = LabelEncoder()\n",
    "\n",
    "for col in cols:\n",
    "    # Transform from Y/N to 1/0 \n",
    "    data[col] = encod.fit_transform(data[col].astype(str))\n",
    "   \n",
    "    # Transform the test set as well\n",
    "    holdout[col] = encod.fit_transform(holdout[col].astype(str)) "
   ]
  },
  {
   "cell_type": "markdown",
   "metadata": {},
   "source": [
    "## Data Imputation"
   ]
  },
  {
   "cell_type": "markdown",
   "metadata": {},
   "source": [
    "The data imputation strategy is to fill categorical variables with the mode (the most frequent value) and for continuous variables to fill with the median value."
   ]
  },
  {
   "cell_type": "code",
   "execution_count": 34,
   "metadata": {},
   "outputs": [],
   "source": [
    "# Replace infinity to NA\n",
    "data.replace([np.inf, -np.inf], np.nan,inplace=True)\n",
    "holdout.replace([np.inf, -np.inf], np.nan,inplace=True)"
   ]
  },
  {
   "cell_type": "code",
   "execution_count": 35,
   "metadata": {},
   "outputs": [],
   "source": [
    "# Numeric Vriables\n",
    "num_col = []\n",
    "for col in data.columns:\n",
    "    if data[col].dtype != 'object' and len(data[col].unique()):\n",
    "        num_col.append(col)\n",
    "\n",
    "for df in [data,holdout]:\n",
    "    for col in num_col:\n",
    "        df[col].fillna(data[col].median(), inplace=True)\n"
   ]
  },
  {
   "cell_type": "code",
   "execution_count": 36,
   "metadata": {},
   "outputs": [],
   "source": [
    "# Categorical Vriables\n",
    "\n",
    "cat_col = []\n",
    "for col in data.columns:\n",
    "    if data[col].dtype == 'object':\n",
    "        cat_col.append(col)\n",
    "\n",
    "for df in [data,holdout]:    \n",
    "    for col in cat_col:\n",
    "        df[col].fillna(data[col].mode(), inplace=True)        \n",
    "        "
   ]
  },
  {
   "cell_type": "markdown",
   "metadata": {},
   "source": [
    "## One-Hot Encoding for Multi-Categorical Variables"
   ]
  },
  {
   "cell_type": "code",
   "execution_count": 37,
   "metadata": {},
   "outputs": [],
   "source": [
    "# One-Hot encoding function\n",
    "def create_dummies(df, column_name):\n",
    "    \"\"\"\n",
    "    Create dummy variable from categorical variable.\n",
    "    \"\"\"\n",
    "    dummies = pd.get_dummies(df[column_name], prefix=column_name)\n",
    "    df = pd.concat([df, dummies], axis=1)\n",
    "    df.drop(columns = [column_name], inplace = True)\n",
    "    return df"
   ]
  },
  {
   "cell_type": "code",
   "execution_count": 38,
   "metadata": {},
   "outputs": [],
   "source": [
    "# One-Hot encoding for multi-category variables\n",
    "\n",
    "for col in data.columns:\n",
    "    if data[col].dtype == 'object':\n",
    "        data = create_dummies(data, col)       \n",
    "        \n",
    "for col in holdout.columns:\n",
    "    if holdout[col].dtype == 'object':\n",
    "        holdout = create_dummies(holdout, col)          "
   ]
  },
  {
   "cell_type": "markdown",
   "metadata": {},
   "source": [
    "There are 2 variables (which probably were classes in some categorical feature) in the train set and don't exist in the test set. "
   ]
  },
  {
   "cell_type": "code",
   "execution_count": 39,
   "metadata": {},
   "outputs": [
    {
     "data": {
      "text/plain": [
       "((245997, 185), (61502, 183))"
      ]
     },
     "execution_count": 39,
     "metadata": {},
     "output_type": "execute_result"
    }
   ],
   "source": [
    "data.shape, holdout.shape"
   ]
  },
  {
   "cell_type": "markdown",
   "metadata": {},
   "source": [
    "Finding and adding the missing columns to the test set with 0 values (which indicate that they not exist)."
   ]
  },
  {
   "cell_type": "code",
   "execution_count": 40,
   "metadata": {},
   "outputs": [
    {
     "name": "stdout",
     "output_type": "stream",
     "text": [
      "name_income_type_Businessman\n",
      "name_family_status_Unknown\n"
     ]
    }
   ],
   "source": [
    "test_columns_list = holdout.columns.to_list()\n",
    "\n",
    "for i in data.columns:\n",
    "    if i not in test_columns_list:\n",
    "        print(i)\n",
    "        holdout[i] = 0\n",
    "\n",
    "# Correct the order of the columns to be the same as the train set\n",
    "holdout = holdout[data.columns]"
   ]
  },
  {
   "cell_type": "markdown",
   "metadata": {},
   "source": [
    "## Scaling Numeric Variables"
   ]
  },
  {
   "cell_type": "code",
   "execution_count": 41,
   "metadata": {},
   "outputs": [
    {
     "name": "stdout",
     "output_type": "stream",
     "text": [
      "code_gender\n",
      "cnt_children\n",
      "amt_income_total\n",
      "amt_credit\n",
      "amt_annuity\n",
      "amt_goods_price\n",
      "region_population_relative\n",
      "cnt_fam_members\n",
      "region_rating_client_w_city\n",
      "hour_appr_process_start\n",
      "ext_source_1\n",
      "ext_source_2\n",
      "ext_source_3\n",
      "apartments_avg\n",
      "basementarea_avg\n",
      "years_beginexpluatation_avg\n",
      "years_build_avg\n",
      "commonarea_avg\n",
      "elevators_avg\n",
      "entrances_avg\n",
      "floorsmax_avg\n",
      "landarea_avg\n",
      "livingarea_avg\n",
      "nonlivingarea_avg\n",
      "housetype_mode\n",
      "totalarea_mode\n",
      "wallsmaterial_mode\n",
      "emergencystate_mode\n",
      "obs_30_cnt_social_circle\n",
      "def_30_cnt_social_circle\n",
      "obs_60_cnt_social_circle\n",
      "def_60_cnt_social_circle\n",
      "days_last_phone_change\n",
      "amt_req_credit_bureau_hour\n",
      "amt_req_credit_bureau_day\n",
      "amt_req_credit_bureau_week\n",
      "amt_req_credit_bureau_mon\n",
      "amt_req_credit_bureau_qrt\n",
      "amt_req_credit_bureau_year\n",
      "age\n",
      "years_employed\n",
      "years_registration\n",
      "years_id_publish\n",
      "crdit_from_income\n",
      "crdit_from_income_and_assets\n",
      "credit_terms\n",
      "employed_from_age\n",
      "ext_source_1+2\n",
      "ext_source_2+3\n",
      "ext_source_1+3\n",
      "ext_source_1+2+3\n",
      "ext_source_1^2\n",
      "ext_source_2^2\n",
      "ext_source_3^2\n",
      "age^2\n",
      "region_rating_client_w_city^2\n"
     ]
    }
   ],
   "source": [
    "for col in data.columns:\n",
    "    if data[col].dtype != 'object' and len(data[col].unique()) > 2:\n",
    "        print(col)"
   ]
  },
  {
   "cell_type": "code",
   "execution_count": 42,
   "metadata": {},
   "outputs": [],
   "source": [
    "# return values between 0-1 \n",
    "scaler = MinMaxScaler() # X_new = Xi-min(X) / max(X)-min(X) \n",
    "\n",
    "\n",
    "for col in data.columns:\n",
    "    if data[col].dtype != 'object':                        # only numeric values\n",
    "        if len(data[col].unique()) > 2:                    # exclude dummies  \n",
    "            data[col] = scaler.fit_transform(data[[col]])\n",
    "            holdout[col] = scaler.transform(holdout[[col]])"
   ]
  },
  {
   "cell_type": "markdown",
   "metadata": {},
   "source": [
    "### Split to X and y for train and test sets"
   ]
  },
  {
   "cell_type": "code",
   "execution_count": 43,
   "metadata": {},
   "outputs": [],
   "source": [
    "# Save the variables names\n",
    "features = list(data.columns)\n",
    "\n",
    "# Split the data to train and test\n",
    "X_train = data.drop('target',axis=1)\n",
    "y_train = data['target']\n",
    "\n",
    "X_test = holdout.drop('target',axis=1)\n",
    "y_test = holdout['target']"
   ]
  },
  {
   "cell_type": "code",
   "execution_count": 44,
   "metadata": {},
   "outputs": [
    {
     "name": "stdout",
     "output_type": "stream",
     "text": [
      "(245997, 184) (61502, 184) \n",
      "\n",
      "(245997,) (61502,)\n"
     ]
    }
   ],
   "source": [
    "print(X_train.shape, X_test.shape,'\\n')\n",
    "print(y_train.shape, y_test.shape)"
   ]
  },
  {
   "cell_type": "markdown",
   "metadata": {},
   "source": [
    "# Models"
   ]
  },
  {
   "cell_type": "markdown",
   "metadata": {},
   "source": [
    "## Naive Model"
   ]
  },
  {
   "cell_type": "markdown",
   "metadata": {},
   "source": [
    "Obviously just by saying every client has 0% to become a default we can get to ~92% accuracy.\n",
    "\n",
    "That's the reason we are using the ROC AUC score which receives only 0.5 (equal to randomly choice) with that naive model."
   ]
  },
  {
   "cell_type": "code",
   "execution_count": 89,
   "metadata": {},
   "outputs": [
    {
     "name": "stdout",
     "output_type": "stream",
     "text": [
      "Test ROC AUC Score: 0.5\n",
      "\n",
      "Classification Report: \n",
      "              precision    recall  f1-score   support\n",
      "\n",
      "           0    1.00000   0.91927   0.95794     61502\n",
      "           1    0.00000   0.00000   0.00000         0\n",
      "\n",
      "    accuracy                        0.91927     61502\n",
      "   macro avg    0.50000   0.45964   0.47897     61502\n",
      "weighted avg    1.00000   0.91927   0.95794     61502\n",
      "\n"
     ]
    }
   ],
   "source": [
    "pred= [0] * y_test.shape[0]\n",
    "print(\"Test ROC AUC Score: \" + str(roc_auc_score(y_test, pred)) +'\\n')\n",
    "print(\"Classification Report: \\n\"+ str(classification_report(pred, y_test, digits=5)))"
   ]
  },
  {
   "cell_type": "markdown",
   "metadata": {},
   "source": [
    "## Machine Learning Algorithms"
   ]
  },
  {
   "cell_type": "code",
   "execution_count": 47,
   "metadata": {},
   "outputs": [],
   "source": [
    "# Define models\n",
    "lr = LogisticRegression()\n",
    "rf = RandomForestClassifier()\n",
    "adb = AdaBoostClassifier()\n",
    "xgb = XGBClassifier()\n",
    "\n",
    "svm = SVC()                        # Not used\n",
    "knn = KNeighborsClassifier()       # Not used"
   ]
  },
  {
   "cell_type": "code",
   "execution_count": 45,
   "metadata": {},
   "outputs": [
    {
     "name": "stdout",
     "output_type": "stream",
     "text": [
      "LogisticRegressions score: 0.7462382313674982\n",
      "RandomForestClassifiers score: 0.7230782117398697\n",
      "AdaBoostClassifiers score: 0.7476033806641009\n",
      "XGBClassifiers score: 0.7554759103433085\n",
      "Wall time: 13min 31s\n"
     ]
    }
   ],
   "source": [
    "%%time\n",
    "# Getting cross validation scores for each model\n",
    "\n",
    "models = [lr, rf, adb, xgb]\n",
    "    \n",
    "for model in models:\n",
    "    model.fit(X_train, y_train)\n",
    "    name = model.__class__.__name__\n",
    "    result = cross_val_score(model, X_train, y_train, scoring='roc_auc', cv=5, n_jobs=-1)\n",
    "    print(\"{}s score: {}\".format(name, result.mean()))"
   ]
  },
  {
   "cell_type": "markdown",
   "metadata": {},
   "source": [
    "# Hyperparameter Tuning"
   ]
  },
  {
   "cell_type": "markdown",
   "metadata": {},
   "source": [
    "One option for a smarter implementation of hyperparameter tuning is to combine random search and grid search:\n",
    "\n",
    "1. Use random search with a large hyperparameter grid\n",
    "2. Use the results of random search to build a focused hyperparameter grid around the best performing hyperparameter values.\n",
    "3. Run grid search on the reduced hyperparameter grid.\n",
    "4. Select the best hyperparameter tuning."
   ]
  },
  {
   "cell_type": "markdown",
   "metadata": {},
   "source": [
    "## Random Search"
   ]
  },
  {
   "cell_type": "code",
   "execution_count": 48,
   "metadata": {},
   "outputs": [],
   "source": [
    "## Grids\n",
    "\n",
    "# Logistic Regression\n",
    "lr_grid = {\n",
    "    \"solver\": ['saga'],\n",
    "    \"penalty\": ['l1', 'l2','elasticnet'],\n",
    "    \"C\": [0.001, 0.01, 0.1, 1, 10, 100, 300, 1000] ,\n",
    "    \"l1_ratio\": np.arange(0.1, 0.9, 0.05) \n",
    "}  \n",
    "\n",
    "# Random Forest\n",
    "rf_grid = {\n",
    "    \"n_estimators\": [50, 100, 200, 350, 500],\n",
    "    \"max_features\": ['auto', 'sqrt'],\n",
    "    \"max_depth\": [3, 5, 6, 8, 10],\n",
    "    \"min_samples_split\": list(np.linspace(0.01, 1.0, 10, endpoint=True).round(2)),\n",
    "    \"min_samples_leaf\": list(np.linspace(0.01, 1.0, 10, endpoint=True).round(2))\n",
    "}  \n",
    "\n",
    "\n",
    "# Adaboost\n",
    "adb_grid = {\n",
    "    \"n_estimators\": [50, 100, 250, 500],\n",
    "    \"learning_rate\": [0.01, 0.025, 0.05, 0.075, 0.1, 0.15, 0.2],\n",
    "    \"n_estimators\": [100, 250, 500]\n",
    "}\n",
    "\n",
    "# Xgboost\n",
    "xgb_grid = {\n",
    "    \"learning_rate\": [0.01, 0.025, 0.05, 0.075, 0.1, 0.15, 0.2],\n",
    "    \"n_estimators\": [500],\n",
    "    \"subsample\":[0.5, 0.618, 0.8, 0.85, 0.9, 0.95, 1.0],\n",
    "    \"min_child_weight\": np.arange(1, 10, 1),\n",
    "    \"gamma\": np.arange(0, 10, 1),\n",
    "    \"colsample_bytree\": np.arange(0.5 ,1, 0.1),\n",
    "    \"max_depth\":[3, 5, 6, 8, 10]\n",
    "    }\n",
    "\n",
    "\n",
    "## Not Used\n",
    "# KNN\n",
    "knn_grid = {\n",
    "    \"n_neighbors\": np.arange(1,100,2),\n",
    "    \"weights\": [\"uniform\", \"distance\"],\n",
    "    \"algorithm\": [\"ball_tree\", \"kd_tree\", \"brute\"],\n",
    "    \"leaf_size\": np.arange(2,30,2),\n",
    "    \"p\": [1,2]\n",
    "}\n",
    "\n",
    "# SVM\n",
    "svm_grid = {\n",
    "    \"C\": [0, 0.001, 0.01, 0.1, 1, 3, 5, 10, 50, 100],\n",
    "    \"gamma\": [0, 0.001, 0.01, 0.1, 1, 3, 5, 10, 50, 100],\n",
    "    \"kernel\": [\"rbf\"]\n",
    "}"
   ]
  },
  {
   "cell_type": "code",
   "execution_count": 49,
   "metadata": {},
   "outputs": [
    {
     "name": "stdout",
     "output_type": "stream",
     "text": [
      "Model:  LogisticRegression \n",
      "\n",
      "Best Score:  0.7473101699826458 \n",
      "\n",
      "Best Params:  {'solver': 'saga', 'penalty': 'l1', 'l1_ratio': 0.6500000000000001, 'C': 100}\n",
      "==========================================================================\n",
      "Model:  RandomForestClassifier \n",
      "\n",
      "Best Score:  0.5 \n",
      "\n",
      "Best Params:  {'n_estimators': 350, 'min_samples_split': 0.45, 'min_samples_leaf': 0.45, 'max_features': 'sqrt', 'max_depth': 3}\n",
      "==========================================================================\n",
      "Model:  AdaBoostClassifier \n",
      "\n",
      "Best Score:  0.7518935627838467 \n",
      "\n",
      "Best Params:  {'n_estimators': 500, 'learning_rate': 0.1}\n",
      "==========================================================================\n",
      "Model:  XGBClassifier \n",
      "\n",
      "Best Score:  0.7667547956752201 \n",
      "\n",
      "Best Params:  {'subsample': 0.8, 'n_estimators': 500, 'min_child_weight': 7, 'max_depth': 5, 'learning_rate': 0.05, 'gamma': 6, 'colsample_bytree': 0.7}\n",
      "==========================================================================\n",
      "Wall time: 3h 21min 33s\n"
     ]
    }
   ],
   "source": [
    "%%time\n",
    "models = [lr, rf, adb, xgb]\n",
    "grids = [lr_grid, rf_grid, adb_grid, xgb_grid]\n",
    "\n",
    "for model, grid in list(zip(models, grids)):\n",
    "    name = model.__class__.__name__\n",
    "    model = RandomizedSearchCV(estimator=model, param_distributions=grid,\n",
    "                               scoring='roc_auc', n_jobs=-1,\n",
    "                               cv = 3, random_state = 1234)\n",
    "    model.fit(X_train, y_train)\n",
    "    \n",
    "    print('Model: ', name,'\\n')\n",
    "    print('Best Score: ', model.best_score_,'\\n')\n",
    "    print('Best Params: ', model.best_params_)\n",
    "    print('==========================================================================')"
   ]
  },
  {
   "cell_type": "markdown",
   "metadata": {},
   "source": [
    "## Grid Search"
   ]
  },
  {
   "cell_type": "markdown",
   "metadata": {},
   "source": [
    "Base on the random search result we are making new grids for the best 3 models."
   ]
  },
  {
   "cell_type": "code",
   "execution_count": 60,
   "metadata": {},
   "outputs": [],
   "source": [
    "# Logistic Regression\n",
    "lr_grid = {\n",
    "    \"solver\": ['saga'],\n",
    "    \"penalty\": ['l1'],\n",
    "    \"C\": [50, 80 ,100, 120, 150, 200]\n",
    "}  \n",
    "\n",
    "# Adaboost\n",
    "adb_grid = {\n",
    "    \"n_estimators\": [500],\n",
    "    \"learning_rate\": [0.075, 0.1, 0.15, 0.2],\n",
    "}\n",
    "    \n",
    "# Xgboost\n",
    "xgb_grid = {\n",
    "    \"learning_rate\": [0.025, 0.05, 0.075],\n",
    "    \"n_estimators\": [500],\n",
    "    \"subsample\":[0.7, 0.8, 0.9],\n",
    "    \"min_child_weight\": [6, 7, 8],\n",
    "    \"gamma\": [6],\n",
    "    \"colsample_bytree\": [0.7],\n",
    "    \"max_depth\":[5]\n",
    "    }\n",
    "\n"
   ]
  },
  {
   "cell_type": "code",
   "execution_count": 61,
   "metadata": {},
   "outputs": [
    {
     "name": "stdout",
     "output_type": "stream",
     "text": [
      "Model:  LogisticRegression \n",
      "\n",
      "Best Score:  0.7473105761209614 \n",
      "\n",
      "Best Params:  {'C': 150, 'penalty': 'l1', 'solver': 'saga'}\n",
      "==========================================================================\n",
      "Model:  AdaBoostClassifier \n",
      "\n",
      "Best Score:  0.7557093314566536 \n",
      "\n",
      "Best Params:  {'learning_rate': 0.2, 'n_estimators': 500}\n",
      "==========================================================================\n",
      "Model:  XGBClassifier \n",
      "\n",
      "Best Score:  0.7670413152351153 \n",
      "\n",
      "Best Params:  {'colsample_bytree': 0.7, 'gamma': 6, 'learning_rate': 0.075, 'max_depth': 5, 'min_child_weight': 7, 'n_estimators': 500, 'subsample': 0.9}\n",
      "==========================================================================\n",
      "Wall time: 4h 32min 4s\n"
     ]
    }
   ],
   "source": [
    "%%time\n",
    "models = [lr, adb, xgb]\n",
    "grids = [lr_grid, adb_grid, xgb_grid]\n",
    "\n",
    "for model, grid in list(zip(models, grids)):\n",
    "    name = model.__class__.__name__\n",
    "    model = GridSearchCV(estimator=model, param_grid=grid,\n",
    "                               scoring='roc_auc', n_jobs=-1, cv = 3)\n",
    "    model.fit(X_train, y_train)\n",
    "    \n",
    "    print('Model: ', name,'\\n')\n",
    "    print('Best Score: ', model.best_score_,'\\n')\n",
    "    print('Best Params: ', model.best_params_)\n",
    "    print('==========================================================================')"
   ]
  },
  {
   "cell_type": "markdown",
   "metadata": {},
   "source": [
    "## Deep Neural Network"
   ]
  },
  {
   "cell_type": "code",
   "execution_count": 108,
   "metadata": {},
   "outputs": [],
   "source": [
    "def fc_model(n_hidden=6, n_neurons=20, learning_rate=1e-3, input_dim=X_train.shape[1], dropout = 0.2):\n",
    "    model = keras.models.Sequential()\n",
    "    options = {\"input_dim\": input_dim}\n",
    "\n",
    "    for layer in range(n_hidden):\n",
    "        model.add(keras.layers.Dense(n_neurons, activation=\"elu\", **options))\n",
    "        model.add(keras.layers.Dropout(dropout))\n",
    "        options = {}\n",
    "\n",
    "    # last layer the output\n",
    "    model.add(keras.layers.Dense(1, activation='sigmoid', **options))\n",
    "    optimizer = Adam(learning_rate)\n",
    "    model.compile(loss=\"binary_crossentropy\", optimizer=optimizer, metrics=[keras.metrics.AUC()])\n",
    "    return model"
   ]
  },
  {
   "cell_type": "code",
   "execution_count": 105,
   "metadata": {},
   "outputs": [],
   "source": [
    "keras_clf = keras.wrappers.scikit_learn.KerasClassifier(fc_model)"
   ]
  },
  {
   "cell_type": "markdown",
   "metadata": {},
   "source": [
    "## ANN Hyperparameter Tuning"
   ]
  },
  {
   "cell_type": "code",
   "execution_count": 106,
   "metadata": {},
   "outputs": [
    {
     "name": "stdout",
     "output_type": "stream",
     "text": [
      "246/246 [==============================] - 0s 101us/step\n",
      "246/246 [==============================] - 0s 114us/step\n",
      "246/246 [==============================] - 0s 89us/step\n",
      "246/246 [==============================] - 0s 89us/step\n",
      "246/246 [==============================] - 0s 93us/step\n",
      "246/246 [==============================] - 0s 97us/step\n",
      "246/246 [==============================] - 0s 101us/step\n",
      "246/246 [==============================] - 0s 109us/step\n",
      "246/246 [==============================] - 0s 95us/step\n",
      "246/246 [==============================] - 0s 95us/step\n",
      "246/246 [==============================] - 0s 103us/step\n",
      "246/246 [==============================] - 0s 81us/step\n",
      "246/246 [==============================] - 0s 89us/step\n",
      "246/246 [==============================] - 0s 109us/step\n",
      "246/246 [==============================] - 0s 92us/step\n",
      "246/246 [==============================] - 0s 127us/step\n",
      "246/246 [==============================] - 0s 89us/step\n",
      "246/246 [==============================] - 0s 93us/step\n",
      "246/246 [==============================] - 0s 96us/step\n",
      "246/246 [==============================] - 0s 73us/step\n",
      "Wall time: 4h 53min 27s\n"
     ]
    }
   ],
   "source": [
    "%%time\n",
    "\n",
    "# Setting the parameters ranges\n",
    "\n",
    "params = {\n",
    "    \"n_hidden\": tuple([1,2,3]),   \n",
    "    \"n_neurons\": tuple([20, X_train.shape[1], 500]),\n",
    "    \"learning_rate\": tuple([1e-2, 1e-3, 1e-4]),\n",
    "    \"dropout\": tuple([0.0, 0.2])\n",
    "}\n",
    "\n",
    "# Random search grid \n",
    "rnd_search = RandomizedSearchCV(keras_clf, params, random_state=1234, n_iter=20,\n",
    "                                cv=ShuffleSplit(n_splits=1, test_size= 0.001, random_state=1234)) # To prevent doing cross-validation\n",
    "\n",
    "es = EarlyStopping(monitor='val_loss', min_delta=1e-10, patience=5, verbose=0)\n",
    "mcp = ModelCheckpoint(filepath='weights1.h5', monitor='val_loss', verbose=0, save_best_only=True, save_weights_only=False)\n",
    "rlr = ReduceLROnPlateau(monitor='val_loss', factor=0.7, patience=2, min_lr=1e-7 ,verbose=0)\n",
    "\n",
    "history = rnd_search.fit(X_train, y_train, epochs=50,\n",
    "                  validation_split=0.2,\n",
    "                  callbacks=[es, mcp, rlr],\n",
    "                  verbose=0)"
   ]
  },
  {
   "cell_type": "code",
   "execution_count": 107,
   "metadata": {},
   "outputs": [
    {
     "name": "stdout",
     "output_type": "stream",
     "text": [
      "{'n_neurons': 20, 'n_hidden': 1, 'learning_rate': 0.01, 'dropout': 0.2}\n"
     ]
    }
   ],
   "source": [
    "print(rnd_search.best_params_)"
   ]
  },
  {
   "cell_type": "markdown",
   "metadata": {},
   "source": [
    "Choose the best model"
   ]
  },
  {
   "cell_type": "code",
   "execution_count": 109,
   "metadata": {
    "scrolled": false
   },
   "outputs": [
    {
     "name": "stdout",
     "output_type": "stream",
     "text": [
      "Train on 196797 samples, validate on 49200 samples\n",
      "Epoch 1/50\n",
      "196797/196797 [==============================] - 32s 162us/step - loss: 0.2575 - auc_4: 0.7160 - val_loss: 0.2557 - val_auc_4: 0.7334\n",
      "\n",
      "Epoch 00001: val_loss improved from inf to 0.25569, saving model to weights.h5\n",
      "Epoch 2/50\n",
      "196797/196797 [==============================] - 30s 154us/step - loss: 0.2537 - auc_4: 0.7300 - val_loss: 0.2547 - val_auc_4: 0.7366\n",
      "\n",
      "Epoch 00002: val_loss improved from 0.25569 to 0.25471, saving model to weights.h5\n",
      "Epoch 3/50\n",
      "196797/196797 [==============================] - 30s 154us/step - loss: 0.2528 - auc_4: 0.7333 - val_loss: 0.2553 - val_auc_4: 0.7368\n",
      "\n",
      "Epoch 00003: val_loss did not improve from 0.25471\n",
      "Epoch 4/50\n",
      "196797/196797 [==============================] - 31s 156us/step - loss: 0.2520 - auc_4: 0.7358 - val_loss: 0.2546 - val_auc_4: 0.7361\n",
      "\n",
      "Epoch 00004: val_loss improved from 0.25471 to 0.25456, saving model to weights.h5\n",
      "Epoch 5/50\n",
      "196797/196797 [==============================] - 31s 158us/step - loss: 0.2511 - auc_4: 0.7386 - val_loss: 0.2540 - val_auc_4: 0.7377\n",
      "\n",
      "Epoch 00005: val_loss improved from 0.25456 to 0.25398, saving model to weights.h5\n",
      "Epoch 6/50\n",
      "196797/196797 [==============================] - 33s 165us/step - loss: 0.2508 - auc_4: 0.7407 - val_loss: 0.2538 - val_auc_4: 0.7390\n",
      "\n",
      "Epoch 00006: val_loss improved from 0.25398 to 0.25378, saving model to weights.h5\n",
      "Epoch 7/50\n",
      "196797/196797 [==============================] - 32s 165us/step - loss: 0.2504 - auc_4: 0.7419 - val_loss: 0.2537 - val_auc_4: 0.7393\n",
      "\n",
      "Epoch 00007: val_loss improved from 0.25378 to 0.25371, saving model to weights.h5\n",
      "Epoch 8/50\n",
      "196797/196797 [==============================] - 32s 161us/step - loss: 0.2502 - auc_4: 0.7427 - val_loss: 0.2538 - val_auc_4: 0.7394\n",
      "\n",
      "Epoch 00008: val_loss did not improve from 0.25371\n",
      "Epoch 9/50\n",
      "196797/196797 [==============================] - 32s 163us/step - loss: 0.2500 - auc_4: 0.7431 - val_loss: 0.2551 - val_auc_4: 0.7387\n",
      "\n",
      "Epoch 00009: ReduceLROnPlateau reducing learning rate to 0.0005000000237487257.\n",
      "\n",
      "Epoch 00009: val_loss did not improve from 0.25371\n",
      "Epoch 10/50\n",
      "196797/196797 [==============================] - 35s 180us/step - loss: 0.2494 - auc_4: 0.7452 - val_loss: 0.2532 - val_auc_4: 0.7397\n",
      "\n",
      "Epoch 00010: val_loss improved from 0.25371 to 0.25320, saving model to weights.h5\n",
      "Epoch 11/50\n",
      "196797/196797 [==============================] - 33s 167us/step - loss: 0.2490 - auc_4: 0.7468 - val_loss: 0.2531 - val_auc_4: 0.7401\n",
      "\n",
      "Epoch 00011: val_loss improved from 0.25320 to 0.25313, saving model to weights.h5\n",
      "Epoch 12/50\n",
      "196797/196797 [==============================] - 32s 163us/step - loss: 0.2488 - auc_4: 0.7475 - val_loss: 0.2530 - val_auc_4: 0.7401\n",
      "\n",
      "Epoch 00012: val_loss improved from 0.25313 to 0.25297, saving model to weights.h5\n",
      "Epoch 13/50\n",
      "196797/196797 [==============================] - 33s 168us/step - loss: 0.2490 - auc_4: 0.7466 - val_loss: 0.2532 - val_auc_4: 0.7404\n",
      "\n",
      "Epoch 00013: val_loss did not improve from 0.25297\n",
      "Epoch 14/50\n",
      "196797/196797 [==============================] - 32s 163us/step - loss: 0.2489 - auc_4: 0.7474 - val_loss: 0.2542 - val_auc_4: 0.7399\n",
      "\n",
      "Epoch 00014: val_loss did not improve from 0.25297\n",
      "Epoch 15/50\n",
      "196797/196797 [==============================] - 32s 162us/step - loss: 0.2485 - auc_4: 0.7488 - val_loss: 0.2530 - val_auc_4: 0.7403\n",
      "\n",
      "Epoch 00015: ReduceLROnPlateau reducing learning rate to 0.0002500000118743628.\n",
      "\n",
      "Epoch 00015: val_loss did not improve from 0.25297\n",
      "Epoch 16/50\n",
      "196797/196797 [==============================] - 32s 162us/step - loss: 0.2482 - auc_4: 0.7496 - val_loss: 0.2530 - val_auc_4: 0.7405\n",
      "\n",
      "Epoch 00016: val_loss did not improve from 0.25297\n",
      "Epoch 17/50\n",
      "196797/196797 [==============================] - 31s 160us/step - loss: 0.2482 - auc_4: 0.7497 - val_loss: 0.2530 - val_auc_4: 0.7409\n",
      "\n",
      "Epoch 00017: val_loss did not improve from 0.25297\n",
      "Epoch 18/50\n",
      "196797/196797 [==============================] - 32s 162us/step - loss: 0.2481 - auc_4: 0.7497 - val_loss: 0.2530 - val_auc_4: 0.7407\n",
      "\n",
      "Epoch 00018: ReduceLROnPlateau reducing learning rate to 0.0001250000059371814.\n",
      "\n",
      "Epoch 00018: val_loss improved from 0.25297 to 0.25296, saving model to weights.h5\n",
      "Epoch 19/50\n",
      "196797/196797 [==============================] - 34s 171us/step - loss: 0.2480 - auc_4: 0.7506 - val_loss: 0.2534 - val_auc_4: 0.7406\n",
      "\n",
      "Epoch 00019: val_loss did not improve from 0.25296\n",
      "Epoch 20/50\n",
      "196797/196797 [==============================] - 34s 172us/step - loss: 0.2481 - auc_4: 0.7499 - val_loss: 0.2529 - val_auc_4: 0.7407\n",
      "\n",
      "Epoch 00020: val_loss improved from 0.25296 to 0.25290, saving model to weights.h5\n",
      "Epoch 21/50\n",
      "196797/196797 [==============================] - 32s 161us/step - loss: 0.2481 - auc_4: 0.7499 - val_loss: 0.2528 - val_auc_4: 0.7407\n",
      "\n",
      "Epoch 00021: val_loss improved from 0.25290 to 0.25280, saving model to weights.h5\n",
      "Epoch 22/50\n",
      "196797/196797 [==============================] - 32s 163us/step - loss: 0.2478 - auc_4: 0.7508 - val_loss: 0.2530 - val_auc_4: 0.7407\n",
      "\n",
      "Epoch 00022: val_loss did not improve from 0.25280\n",
      "Epoch 23/50\n",
      "196797/196797 [==============================] - 32s 161us/step - loss: 0.2480 - auc_4: 0.7498 - val_loss: 0.2528 - val_auc_4: 0.7410\n",
      "\n",
      "Epoch 00023: val_loss improved from 0.25280 to 0.25278, saving model to weights.h5\n",
      "Epoch 24/50\n",
      "196797/196797 [==============================] - 32s 163us/step - loss: 0.2479 - auc_4: 0.7507 - val_loss: 0.2528 - val_auc_4: 0.7409\n",
      "\n",
      "Epoch 00024: ReduceLROnPlateau reducing learning rate to 6.25000029685907e-05.\n",
      "\n",
      "Epoch 00024: val_loss did not improve from 0.25278\n",
      "Epoch 25/50\n",
      "196797/196797 [==============================] - 32s 162us/step - loss: 0.2477 - auc_4: 0.7512 - val_loss: 0.2528 - val_auc_4: 0.7408\n",
      "\n",
      "Epoch 00025: val_loss did not improve from 0.25278\n",
      "Epoch 26/50\n",
      "196797/196797 [==============================] - 32s 162us/step - loss: 0.2477 - auc_4: 0.7514 - val_loss: 0.2530 - val_auc_4: 0.7406\n",
      "\n",
      "Epoch 00026: val_loss did not improve from 0.25278\n",
      "Epoch 27/50\n",
      "196797/196797 [==============================] - 32s 163us/step - loss: 0.2478 - auc_4: 0.7512 - val_loss: 0.2530 - val_auc_4: 0.7404\n",
      "\n",
      "Epoch 00027: ReduceLROnPlateau reducing learning rate to 3.125000148429535e-05.\n",
      "\n",
      "Epoch 00027: val_loss did not improve from 0.25278\n",
      "Epoch 28/50\n",
      "196797/196797 [==============================] - 33s 167us/step - loss: 0.2476 - auc_4: 0.7514 - val_loss: 0.2528 - val_auc_4: 0.7407\n",
      "\n",
      "Epoch 00028: val_loss did not improve from 0.25278\n",
      "Epoch 29/50\n",
      "196797/196797 [==============================] - 32s 162us/step - loss: 0.2477 - auc_4: 0.7515 - val_loss: 0.2528 - val_auc_4: 0.7409\n",
      "\n",
      "Epoch 00029: val_loss did not improve from 0.25278\n",
      "Epoch 30/50\n",
      "196797/196797 [==============================] - 33s 167us/step - loss: 0.2476 - auc_4: 0.7516 - val_loss: 0.2529 - val_auc_4: 0.7407\n",
      "\n",
      "Epoch 00030: ReduceLROnPlateau reducing learning rate to 1.5625000742147677e-05.\n",
      "\n",
      "Epoch 00030: val_loss did not improve from 0.25278\n",
      "Epoch 31/50\n",
      "196797/196797 [==============================] - 34s 170us/step - loss: 0.2476 - auc_4: 0.7517 - val_loss: 0.2528 - val_auc_4: 0.7409\n",
      "\n",
      "Epoch 00031: val_loss did not improve from 0.25278\n",
      "Epoch 32/50\n",
      "196797/196797 [==============================] - 33s 167us/step - loss: 0.2476 - auc_4: 0.7515 - val_loss: 0.2528 - val_auc_4: 0.7408\n",
      "\n",
      "Epoch 00032: val_loss did not improve from 0.25278\n",
      "Epoch 33/50\n",
      "196797/196797 [==============================] - 43s 219us/step - loss: 0.2476 - auc_4: 0.7520 - val_loss: 0.2528 - val_auc_4: 0.7410\n",
      "\n",
      "Epoch 00033: ReduceLROnPlateau reducing learning rate to 7.812500371073838e-06.\n",
      "\n",
      "Epoch 00033: val_loss did not improve from 0.25278\n",
      "Epoch 00033: early stopping\n",
      "Wall time: 17min 55s\n"
     ]
    }
   ],
   "source": [
    "%%time\n",
    "\n",
    "# Assign the best parameters to the new model\n",
    "model = fc_model(n_hidden=1, n_neurons=20, learning_rate=1e-03, dropout=0.2)\n",
    "\n",
    "es = EarlyStopping(monitor='val_loss', min_delta=1e-10, patience=10, verbose=1)\n",
    "rlr = ReduceLROnPlateau(monitor='val_loss', factor=0.5, patience=3, verbose=1)\n",
    "mcp = ModelCheckpoint(filepath='weights.h5', monitor='val_loss', verbose=1, save_best_only=True, save_weights_only=True)\n",
    "\n",
    "history = model.fit(X_train, y_train, epochs=50,\n",
    "                  validation_split=0.2,\n",
    "                  callbacks=[es, rlr, mcp],\n",
    "                  verbose=1)"
   ]
  },
  {
   "cell_type": "code",
   "execution_count": 115,
   "metadata": {},
   "outputs": [],
   "source": [
    "def plot_history(History,Metric = 'auc_4'):\n",
    "    metric = History.history[Metric]\n",
    "    val_metric = History.history['val_'+ str(Metric)]\n",
    "    loss = History.history['loss']\n",
    "    val_loss = History.history['val_loss']\n",
    "    epochs = range(len(metric))\n",
    "\n",
    "    plt.plot(epochs, metric, 'r--', label='Training ' + str(Metric))\n",
    "    plt.plot(epochs, val_metric, 'b', label='Validation ' + str(Metric))\n",
    "    plt.title('Training and validation '+ str(Metric))\n",
    "    plt.legend()\n",
    "    plt.figure()\n",
    "\n",
    "    plt.plot(epochs, loss, 'r--', label='Training loss')\n",
    "    plt.plot(epochs, val_loss, 'b', label='Validation loss')\n",
    "    plt.title('Training and validation loss')\n",
    "    plt.legend()\n",
    "    plt.show()"
   ]
  },
  {
   "cell_type": "code",
   "execution_count": 116,
   "metadata": {},
   "outputs": [
    {
     "data": {
      "image/png": "[encoded data removed]",
      "text/plain": [
       "<Figure size 432x288 with 1 Axes>"
      ]
     },
     "metadata": {
      "needs_background": "light"
     },
     "output_type": "display_data"
    },
    {
     "data": {
      "image/png": "[encoded data removed]",
      "text/plain": [
       "<Figure size 432x288 with 1 Axes>"
      ]
     },
     "metadata": {
      "needs_background": "light"
     },
     "output_type": "display_data"
    }
   ],
   "source": [
    "plot_history(history)"
   ]
  },
  {
   "cell_type": "code",
   "execution_count": 117,
   "metadata": {},
   "outputs": [],
   "source": [
    "pred = model.predict_proba(X_test)"
   ]
  },
  {
   "cell_type": "code",
   "execution_count": 118,
   "metadata": {},
   "outputs": [
    {
     "name": "stdout",
     "output_type": "stream",
     "text": [
      "ROC AUC Score: 0.7435162450363362\n",
      "\n"
     ]
    }
   ],
   "source": [
    "print(\"ROC AUC Score: \" + str(roc_auc_score(y_test, pred)) +'\\n')"
   ]
  },
  {
   "cell_type": "markdown",
   "metadata": {},
   "source": [
    "# Best Results"
   ]
  },
  {
   "cell_type": "code",
   "execution_count": 62,
   "metadata": {},
   "outputs": [
    {
     "name": "stdout",
     "output_type": "stream",
     "text": [
      "ROC AUC Score: 0.768908220251134\n"
     ]
    }
   ],
   "source": [
    "xgb = XGBClassifier(colsample_bytree=0.7, gamma=6, learning_rate=0.075, max_depth=5,\n",
    "                    min_child_weight=7, n_estimators=500, subsample=0.9)\n",
    "\n",
    "xgb.fit(X_train, y_train)\n",
    "\n",
    "pred = xgb.predict_proba(X_test)[:, 1]\n",
    "\n",
    "print(\"ROC AUC Score: \" + str(roc_auc_score(y_test, pred)))"
   ]
  },
  {
   "cell_type": "code",
   "execution_count": 81,
   "metadata": {},
   "outputs": [
    {
     "data": {
      "image/png": "[encoded data removed]",
      "text/plain": [
       "<Figure size 720x576 with 1 Axes>"
      ]
     },
     "metadata": {
      "needs_background": "light"
     },
     "output_type": "display_data"
    },
    {
     "name": "stdout",
     "output_type": "stream",
     "text": [
      "No Skill: ROC AUC=0.500\n",
      "XGBoost: ROC AUC=0.769\n"
     ]
    }
   ],
   "source": [
    "plt.figure(figsize = (10, 8))\n",
    "\n",
    "# Generate a no skill prediction (majority class)\n",
    "ns_probs = [0 for _ in range(len(y_test))]\n",
    "\n",
    "# Calculate scores\n",
    "ns_auc = roc_auc_score(y_test, ns_probs)\n",
    "pred_auc = roc_auc_score(y_test, pred)\n",
    "\n",
    "# Calculate roc curves\n",
    "ns_fpr, ns_tpr, _ = roc_curve(y_test, ns_probs)\n",
    "pred_fpr, pred_tpr, _ = roc_curve(y_test, pred)\n",
    "\n",
    "# Plot the roc curve for the model\n",
    "plt.plot(ns_fpr, ns_tpr, linestyle='--', label='No Skill')\n",
    "plt.plot(pred_fpr, pred_tpr, label='XGBoost')\n",
    "\n",
    "plt.suptitle('ROC Curve and AUC', fontsize=25, fontweight='bold')\n",
    "plt.xlabel('False Positive Rate', fontsize=20)\n",
    "plt.ylabel('True Positive Rate', fontsize=20)\n",
    "plt.legend()\n",
    "\n",
    "plt.show()\n",
    "\n",
    "# Summarize scores\n",
    "print('No Skill: ROC AUC=%.3f' % (ns_auc))\n",
    "print('XGBoost: ROC AUC=%.3f' % (pred_auc))\n"
   ]
  },
  {
   "cell_type": "markdown",
   "metadata": {},
   "source": [
    "## Feature Importances"
   ]
  },
  {
   "cell_type": "code",
   "execution_count": 75,
   "metadata": {},
   "outputs": [
    {
     "data": {
      "text/html": [
       "<div>\n",
       "<style scoped>\n",
       "    .dataframe tbody tr th:only-of-type {\n",
       "        vertical-align: middle;\n",
       "    }\n",
       "\n",
       "    .dataframe tbody tr th {\n",
       "        vertical-align: top;\n",
       "    }\n",
       "\n",
       "    .dataframe thead th {\n",
       "        text-align: right;\n",
       "    }\n",
       "</style>\n",
       "<table border=\"1\" class=\"dataframe\">\n",
       "  <thead>\n",
       "    <tr style=\"text-align: right;\">\n",
       "      <th></th>\n",
       "      <th>0</th>\n",
       "      <th>1</th>\n",
       "    </tr>\n",
       "  </thead>\n",
       "  <tbody>\n",
       "    <tr>\n",
       "      <th>77</th>\n",
       "      <td>age^2</td>\n",
       "      <td>0.0080794</td>\n",
       "    </tr>\n",
       "    <tr>\n",
       "      <th>19</th>\n",
       "      <td>reg_city_not_live_city</td>\n",
       "      <td>0.00866496</td>\n",
       "    </tr>\n",
       "    <tr>\n",
       "      <th>41</th>\n",
       "      <td>def_30_cnt_social_circle</td>\n",
       "      <td>0.00876702</td>\n",
       "    </tr>\n",
       "    <tr>\n",
       "      <th>69</th>\n",
       "      <td>employed_from_age</td>\n",
       "      <td>0.00915327</td>\n",
       "    </tr>\n",
       "    <tr>\n",
       "      <th>104</th>\n",
       "      <td>name_family_status_Married</td>\n",
       "      <td>0.00936124</td>\n",
       "    </tr>\n",
       "    <tr>\n",
       "      <th>14</th>\n",
       "      <td>region_rating_client_w_city</td>\n",
       "      <td>0.0093635</td>\n",
       "    </tr>\n",
       "    <tr>\n",
       "      <th>6</th>\n",
       "      <td>amt_goods_price</td>\n",
       "      <td>0.00939029</td>\n",
       "    </tr>\n",
       "    <tr>\n",
       "      <th>118</th>\n",
       "      <td>occupation_type_Core staff</td>\n",
       "      <td>0.00951254</td>\n",
       "    </tr>\n",
       "    <tr>\n",
       "      <th>70</th>\n",
       "      <td>ext_source_1+2</td>\n",
       "      <td>0.00961636</td>\n",
       "    </tr>\n",
       "    <tr>\n",
       "      <th>22</th>\n",
       "      <td>ext_source_1</td>\n",
       "      <td>0.009822</td>\n",
       "    </tr>\n",
       "    <tr>\n",
       "      <th>74</th>\n",
       "      <td>ext_source_1^2</td>\n",
       "      <td>0.0106038</td>\n",
       "    </tr>\n",
       "    <tr>\n",
       "      <th>68</th>\n",
       "      <td>credit_terms</td>\n",
       "      <td>0.0116125</td>\n",
       "    </tr>\n",
       "    <tr>\n",
       "      <th>102</th>\n",
       "      <td>name_education_type_Secondary / secondary special</td>\n",
       "      <td>0.0146189</td>\n",
       "    </tr>\n",
       "    <tr>\n",
       "      <th>79</th>\n",
       "      <td>is_revolving_loans</td>\n",
       "      <td>0.0146644</td>\n",
       "    </tr>\n",
       "    <tr>\n",
       "      <th>80</th>\n",
       "      <td>flag_own_car_N</td>\n",
       "      <td>0.0150698</td>\n",
       "    </tr>\n",
       "    <tr>\n",
       "      <th>24</th>\n",
       "      <td>ext_source_3</td>\n",
       "      <td>0.0162165</td>\n",
       "    </tr>\n",
       "    <tr>\n",
       "      <th>45</th>\n",
       "      <td>flag_document_3</td>\n",
       "      <td>0.0167278</td>\n",
       "    </tr>\n",
       "    <tr>\n",
       "      <th>23</th>\n",
       "      <td>ext_source_2</td>\n",
       "      <td>0.0170639</td>\n",
       "    </tr>\n",
       "    <tr>\n",
       "      <th>0</th>\n",
       "      <td>code_gender</td>\n",
       "      <td>0.0181228</td>\n",
       "    </tr>\n",
       "    <tr>\n",
       "      <th>76</th>\n",
       "      <td>ext_source_3^2</td>\n",
       "      <td>0.019418</td>\n",
       "    </tr>\n",
       "    <tr>\n",
       "      <th>81</th>\n",
       "      <td>flag_own_car_Y</td>\n",
       "      <td>0.019811</td>\n",
       "    </tr>\n",
       "    <tr>\n",
       "      <th>97</th>\n",
       "      <td>name_income_type_Working</td>\n",
       "      <td>0.0201978</td>\n",
       "    </tr>\n",
       "    <tr>\n",
       "      <th>75</th>\n",
       "      <td>ext_source_2^2</td>\n",
       "      <td>0.0221916</td>\n",
       "    </tr>\n",
       "    <tr>\n",
       "      <th>99</th>\n",
       "      <td>name_education_type_Higher education</td>\n",
       "      <td>0.0230836</td>\n",
       "    </tr>\n",
       "    <tr>\n",
       "      <th>71</th>\n",
       "      <td>ext_source_2+3</td>\n",
       "      <td>0.0543356</td>\n",
       "    </tr>\n",
       "  </tbody>\n",
       "</table>\n",
       "</div>"
      ],
      "text/plain": [
       "                                                     0           1\n",
       "77                                               age^2   0.0080794\n",
       "19                              reg_city_not_live_city  0.00866496\n",
       "41                            def_30_cnt_social_circle  0.00876702\n",
       "69                                   employed_from_age  0.00915327\n",
       "104                         name_family_status_Married  0.00936124\n",
       "14                         region_rating_client_w_city   0.0093635\n",
       "6                                      amt_goods_price  0.00939029\n",
       "118                         occupation_type_Core staff  0.00951254\n",
       "70                                      ext_source_1+2  0.00961636\n",
       "22                                        ext_source_1    0.009822\n",
       "74                                      ext_source_1^2   0.0106038\n",
       "68                                        credit_terms   0.0116125\n",
       "102  name_education_type_Secondary / secondary special   0.0146189\n",
       "79                                  is_revolving_loans   0.0146644\n",
       "80                                      flag_own_car_N   0.0150698\n",
       "24                                        ext_source_3   0.0162165\n",
       "45                                     flag_document_3   0.0167278\n",
       "23                                        ext_source_2   0.0170639\n",
       "0                                          code_gender   0.0181228\n",
       "76                                      ext_source_3^2    0.019418\n",
       "81                                      flag_own_car_Y    0.019811\n",
       "97                            name_income_type_Working   0.0201978\n",
       "75                                      ext_source_2^2   0.0221916\n",
       "99                name_education_type_Higher education   0.0230836\n",
       "71                                      ext_source_2+3   0.0543356"
      ]
     },
     "execution_count": 75,
     "metadata": {},
     "output_type": "execute_result"
    }
   ],
   "source": [
    "importances = xgb.feature_importances_\n",
    "\n",
    "importance_table = pd.DataFrame([features[1:],importances]).T\n",
    "importance_table = importance_table.sort_values(1,ascending=True)[-25:]\n",
    "importance_table"
   ]
  },
  {
   "cell_type": "code",
   "execution_count": 76,
   "metadata": {
    "scrolled": false
   },
   "outputs": [
    {
     "data": {
      "image/png": "[encoded data removed]",
      "text/plain": [
       "<Figure size 576x720 with 1 Axes>"
      ]
     },
     "metadata": {
      "needs_background": "light"
     },
     "output_type": "display_data"
    }
   ],
   "source": [
    "height = importance_table[1] \n",
    "bars = importance_table[0]\n",
    "\n",
    "fig, ax = plt.subplots(figsize=(8, 10))\n",
    "ax.barh(bars, height)\n",
    "fig.suptitle('Top 25 Features Importances', fontsize=25, fontweight='bold')\n",
    "\n",
    "plt.xlabel('values', fontsize=20)\n",
    "plt.ylabel('Features', fontsize=20)\n",
    " \n",
    "plt.show()"
   ]
  }
 ],
 "metadata": {
  "kernelspec": {
   "display_name": "Python 3",
   "language": "python",
   "name": "python3"
  },
  "language_info": {
   "codemirror_mode": {
    "name": "ipython",
    "version": 3
   },
   "file_extension": ".py",
   "mimetype": "text/x-python",
   "name": "python",
   "nbconvert_exporter": "python",
   "pygments_lexer": "ipython3",
   "version": "3.7.3"
  },
  "varInspector": {
   "cols": {
    "lenName": 16,
    "lenType": 16,
    "lenVar": 40
   },
   "kernels_config": {
    "python": {
     "delete_cmd_postfix": "",
     "delete_cmd_prefix": "del ",
     "library": "var_list.py",
     "varRefreshCmd": "print(var_dic_list())"
    },
    "r": {
     "delete_cmd_postfix": ") ",
     "delete_cmd_prefix": "rm(",
     "library": "var_list.r",
     "varRefreshCmd": "cat(var_dic_list()) "
    }
   },
   "types_to_exclude": [
    "module",
    "function",
    "builtin_function_or_method",
    "instance",
    "_Feature"
   ],
   "window_display": false
  }
 },
 "nbformat": 4,
 "nbformat_minor": 4
}
